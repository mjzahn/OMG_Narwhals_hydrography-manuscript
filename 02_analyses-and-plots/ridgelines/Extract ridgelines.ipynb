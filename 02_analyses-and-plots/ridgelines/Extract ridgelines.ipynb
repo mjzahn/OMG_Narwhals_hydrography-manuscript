{
 "cells": [
  {
   "cell_type": "markdown",
   "id": "c27ba329-f105-4a7c-8cc0-a906f2abbe96",
   "metadata": {},
   "source": [
    "# Extract ridgelines"
   ]
  },
  {
   "cell_type": "markdown",
   "id": "98a08659-88c5-4d7c-b4f7-c77bdf2a1022",
   "metadata": {},
   "source": [
    "## 1. Overview of program"
   ]
  },
  {
   "cell_type": "markdown",
   "id": "24ddfde7-4aad-40dd-ab5e-6c912f624b32",
   "metadata": {},
   "source": [
    "This notebook provides a framework for extracting maximum elevation values ('ridges') along either side of a predefined thalweg (obtained from QGIS).\n",
    "\n",
    "**Application:**\n",
    "Ridgelines defined by this program will be plotted over CTD transects of temperature and salinity to see how bathymetric patterns may shape local hydrography. The development of this program and examples included herein used bathymetric data from glacier fjords and the continental shelf in Melville Bay, northwest Greenland.\n",
    "\n",
    "**Summary of program:**\n",
    "To identify ridges, the program searches along lines extending from the thalweg. A reference line that runs roughly parallel to the thalweg (can be bent or straight) is used to define the angle at which search lines extend from the thalweg. Outlier points along the ridge based on spatial coordinates are then smoothed to provide a final ridgeline product."
   ]
  },
  {
   "cell_type": "markdown",
   "id": "f7277dee-7d9f-4191-b78e-9cf557a701ae",
   "metadata": {},
   "source": [
    "****"
   ]
  },
  {
   "cell_type": "markdown",
   "id": "2d55a973-8fbe-4692-831b-dae9181cfd8d",
   "metadata": {},
   "source": [
    "1) Bathymetric data (netCDF format) are sourced from BedMachine V5 and can be downloaded [here](https://sites.ps.uci.edu/morlighem/dataproducts/bedmachine-greenland/).\n",
    "\n",
    "2) Thalweg csv file with the following columns:\n",
    "    - `distance` (in meters from glacier front to outer edge of continental shelf)\n",
    "    - `x` (EPSG 3413 x coordinate)\n",
    "    - `y` (EPSG 3413 y coordinate)\n",
    "    - `Bed_meters` (*OPTIONAL* - not required for this program to extract ridgelines but these are used in final CTD transect plots)\n",
    "    \n",
    "3) Reference line csv file with the following columns:\n",
    "    - `distance` (straight line in meters running parallel to thalweg)\n",
    "    - `x` (EPSG 3413 x coordinate)\n",
    "    - `y` (EPSG 3413 y coordinate)\n",
    "    \n",
    "*Instructions for obtaining (2) and (3) are included below*"
   ]
  },
  {
   "cell_type": "markdown",
   "id": "bc82fd57-2b11-45c8-bb46-46d2785e825f",
   "metadata": {},
   "source": [
    "****"
   ]
  },
  {
   "cell_type": "markdown",
   "id": "608ef076-d5fd-4f40-8739-437b524e0eff",
   "metadata": {},
   "source": [
    "### 1.1. Instructions for creating and exporting csv with thalweg data using QGIS"
   ]
  },
  {
   "cell_type": "markdown",
   "id": "1529c87e-0184-45b3-bbbe-e9cb528050e6",
   "metadata": {},
   "source": [
    "Below are instructions for hand-drawing a thalweg in QGIS where BedMachine bathymetry and CTD profile coordinates are imported and plotted. CTD locations are used to identify transects of interest, along which a thalweg will be drawn and neighboring ridgelines (channel) will be extracted.\n",
    "\n",
    "To draw a thalweg:\n",
    "\n",
    "1) Select button in upper left for \"New Shapefile Layer.\" For filename, select the three dots on the right to navigate to where you want the shapefile to be saved and your desired filname. The geometry type is LineString. Select appropriate coordinate system (here, Polar stereographic north EPSG 3413). Press OK.\n",
    "\n",
    "2) In the Layers pane on the left, select the new shapefile layer. Then press the pencil icon at the top to begin editing this layer. Click \"add line feature\" (two buttons to the right of the pencil).\n",
    "\n",
    "3) Click points on the map to create the thalweg line. Right click to finish. Save and exit editing mode. (Optional: smooth line using \"smooth\" tool. Setting the offset to 0.5 works well)\n",
    "\n",
    "4) Create equidistant points along the line by opening the \"Points along geometry\" tool in the Processing Toolbox pane on the right. Input layer is the your hand-drawn (or smoothed) line. Choose the resolution you want for distance (here, 50 meters between points was used). Note: You do not need to save the new \"interpolated points\" scratch layer as a shapefile layer.\n",
    "\n",
    "5) Right click the interpolated points layer and select \"open attribute table.\" Click the pencil button in upper left to enter edit mode. Click the \"delete fields\" button to delete unneeded columns \"ID\" and \"angle.\"\n",
    "\n",
    "6) Still in the attribute table, press the 'open field calculator' button and add `$x` and `$y` (separately) for x and y coordinates of each point. When you add $x be sure to click \"create virtual field\" and enter output field name as \"x\" or \"y.\" Output field type should be Decimal number (double). Close attribute table.\n",
    "\n",
    "7) OPTIONAL: To extract bathymetric values (from BedMachine data) along the thalweg, search for \"sample raster values\" tool in the Processing Toolbox pane on the right and open it. The input layer is your interpolated points layer and the raster layer is the bedmachine bathymetry layer. Type \"Bed_meters\" in the output column name prefix (i.e., column header). Click run. Save the new \"sampled\" scratch layer as a shapefile layer.\n",
    "\n",
    "8) Right click this new sampled layer and press \"export\" > \"save vector layer as...\". The format should be CSV and make sure the coordinate system is EPSG 3413. Deselect \"add saved file to map.\" Press ok. Use this csv file for ridgeline program."
   ]
  },
  {
   "cell_type": "markdown",
   "id": "60587242-1f92-4437-bffc-b1da1e5d0201",
   "metadata": {
    "tags": []
   },
   "source": [
    "### 1.2. Instructions for creating and exporting csv for reference line using QGIS"
   ]
  },
  {
   "cell_type": "markdown",
   "id": "d864954a-b686-48a1-a397-e52d4a3caa8d",
   "metadata": {},
   "source": [
    "In order to extract ridgelines on either side of the thalweg line, a reference line is used. Begin using a straight line and see if you obtain a satisfactory result. If not, you may try a reference line that contains some bent angles.\n",
    "\n",
    "To create the reference line csv file:\n",
    "\n",
    "1. Repeat steps (1) through (6) from section 1a above, except you will create a straight line instead of a winding thalweg. The reference line will run parallel to the thalweg you drew.\n",
    "\n",
    "2. You do not need to extract bathymetry values for this line. One you have the shapefile layer saved, right click the layer and press \"export\" > \"save vector layer as...\". The format should be CSV and make sure the coordinate system is EPSG 3413. Deselect \"add saved file to map.\" Press ok. Use this csv file for ridgeline program in addition to the csv file for the thalweg."
   ]
  },
  {
   "cell_type": "markdown",
   "id": "e28ce148-3200-49a3-b808-97cabf367896",
   "metadata": {},
   "source": [
    "****"
   ]
  },
  {
   "cell_type": "markdown",
   "id": "c71943db-7e21-45dc-9b24-6f67994f76c1",
   "metadata": {},
   "source": [
    "## 2. Import python libraries"
   ]
  },
  {
   "cell_type": "code",
   "execution_count": 1,
   "id": "5aacd2b0-2c30-43ca-82d6-80c3c568ecc0",
   "metadata": {},
   "outputs": [],
   "source": [
    "import numpy as np\n",
    "import pandas as pd\n",
    "from pathlib import Path\n",
    "import xarray as xr\n",
    "import netCDF4 as nc4\n",
    "\n",
    "# for calculations\n",
    "from pygc import great_circle\n",
    "from pygc import great_distance\n",
    "from pyproj import Proj, transform, Transformer, CRS\n",
    "import pyresample\n",
    "from scipy.signal import argrelextrema\n",
    "\n",
    "# for plotting\n",
    "import matplotlib.pyplot as plt\n",
    "from matplotlib import cm\n",
    "import matplotlib as mpl\n",
    "from matplotlib.colors import ListedColormap\n",
    "import cmocean\n",
    "import cartopy.crs as ccrs\n",
    "\n",
    "# for progress bar\n",
    "from tqdm.notebook import tqdm_notebook"
   ]
  },
  {
   "cell_type": "markdown",
   "id": "9ccde91e-54b2-43cc-af8e-d1958fcdd3f9",
   "metadata": {},
   "source": [
    "## 3. Extract canyon ridgelines along channel"
   ]
  },
  {
   "cell_type": "markdown",
   "id": "cce8d927-9895-4ceb-b695-551f8be5c9e6",
   "metadata": {},
   "source": [
    "### 3.1. Load bathymetry data and csv files for thalweg and reference line"
   ]
  },
  {
   "cell_type": "markdown",
   "id": "8a256cab-de91-4304-b2c1-6a7a916424d1",
   "metadata": {},
   "source": [
    "Load BedMachine data for Melville Bay region. "
   ]
  },
  {
   "cell_type": "code",
   "execution_count": 2,
   "id": "375caea8-23f5-4690-b374-4b0ebb81b418",
   "metadata": {},
   "outputs": [],
   "source": [
    "# import bathymetry data\n",
    "bedmachine_ds = xr.open_dataset('../../../../data/bathymetry/BedMachine_v5_regions/bedmachineV5_moorings_region.nc')"
   ]
  },
  {
   "cell_type": "code",
   "execution_count": 3,
   "id": "0352798b-0d14-4ea9-9f5e-fccaf5c1b880",
   "metadata": {},
   "outputs": [],
   "source": [
    "# create mask for only bathymetry values less than zero (below surface) - set values > 0 to zero.\n",
    "bed_masked_ds = bedmachine_ds.bed.where(bedmachine_ds.bed<0, 0)"
   ]
  },
  {
   "cell_type": "markdown",
   "id": "52076ef9-7dc1-44ca-9a2c-0bf3424a050e",
   "metadata": {},
   "source": [
    "Load csv files for thalweg and reference line"
   ]
  },
  {
   "cell_type": "code",
   "execution_count": 4,
   "id": "7d6a03d6-211f-4660-9d03-bb15c5bc6a86",
   "metadata": {},
   "outputs": [],
   "source": [
    "# import all transect data\n",
    "transect_csv_dir = Path('C:/Users/marie/Documents/PhD/Chapter_3/data/bathymetry/QGIS_files/')\n",
    "\n",
    "# important transect csv files\n",
    "rink_transect_points_df = pd.read_csv(transect_csv_dir/'rink_thalweg.csv')\n",
    "kong_transect_points_df = pd.read_csv(transect_csv_dir/'kongoscar_thalweg.csv')\n",
    "sver_transect_points_df = pd.read_csv(transect_csv_dir/'sverdrup_thalweg.csv')\n",
    "\n",
    "# import reference line csv files\n",
    "rink_ref_points_df = pd.read_csv(transect_csv_dir/'rink_parallel_bent_points.csv')\n",
    "kong_ref_points_df = pd.read_csv(transect_csv_dir/'kongoscar_parallel_bent_points.csv')\n",
    "sver_ref_points_df = pd.read_csv(transect_csv_dir/'sverdrup_parallel_points.csv')"
   ]
  },
  {
   "cell_type": "code",
   "execution_count": 5,
   "id": "8b63af3b-8e4d-4f01-9537-c22c29c41805",
   "metadata": {},
   "outputs": [],
   "source": [
    "# function that reprojects\n",
    "# lat/lon coordinates are needed in the functions below\n",
    "# default is to convert polar stereographic to lat/lon coordinates\n",
    "\n",
    "def transform_projection_to_EPSG4326(transect_points_df, transform_from='EPSG:3413'):\n",
    "    \"\"\"\n",
    "    `transect_points_df`: dataframe including three columns, one for running distance (m)\n",
    "    of transect and the other for coordinates for each point\n",
    "    `transform_from`: coordinate system that you want to transform to lat/lon EPSG:4326\n",
    "    \"\"\"\n",
    "    transformer = Transformer.from_crs(transform_from,'EPSG:4326')\n",
    "    lat, lon = transformer.transform(transect_points_df.x,transect_points_df.y)\n",
    "    return lat,lon"
   ]
  },
  {
   "cell_type": "code",
   "execution_count": 6,
   "id": "df89f84b-77ec-4000-96f3-6005df9757d4",
   "metadata": {},
   "outputs": [],
   "source": [
    "# transform x,y coords to lat,lon\n",
    "rink_lat, rink_lon = transform_projection_to_EPSG4326(rink_transect_points_df, transform_from='EPSG:3413')\n",
    "kong_lat, kong_lon = transform_projection_to_EPSG4326(kong_transect_points_df, transform_from='EPSG:3413')\n",
    "sver_lat, sver_lon = transform_projection_to_EPSG4326(sver_transect_points_df, transform_from='EPSG:3413')\n",
    "\n",
    "rink_ref_lat, rink_ref_lon = transform_projection_to_EPSG4326(rink_ref_points_df, transform_from='EPSG:3413')\n",
    "kong_ref_lat, kong_ref_lon = transform_projection_to_EPSG4326(kong_ref_points_df, transform_from='EPSG:3413')\n",
    "sver_ref_lat, sver_ref_lon = transform_projection_to_EPSG4326(sver_ref_points_df, transform_from='EPSG:3413')"
   ]
  },
  {
   "cell_type": "markdown",
   "id": "8364400c-4fe6-4a2d-8b05-1a847577f20c",
   "metadata": {},
   "source": [
    "### 3.2. Load functions"
   ]
  },
  {
   "cell_type": "markdown",
   "id": "34d49ed1-2671-4b38-ab26-700e62b5eb42",
   "metadata": {},
   "source": [
    "*Summary of functions:*\n",
    "\n",
    "`nearest_line_bedmachine()` - Function that uses the lat/lon points of a search line get indices of the closest lat/lon points in the Bedmachine dataset.\n",
    "\n",
    "`get_search_line_and_peak()` - Function that creates a search line that extends from the thalweg on either side (north side='plus'; south side='minus'). Along each search line, the point of maximum elevation (i.e., the ridge) is selected.\n",
    "\n",
    "`get_ridge_points()` - Function that creates final DataArray for the smoothed ridgeline using indices of maximum elevation (along search lines) that were corrected for outliers (outliers based on spatial coordinates).\n",
    "\n",
    "`define_canyon_ridgeline()` - Function that uses the three functions above to loop points along the thalweg and identify ridges on either side.\n"
   ]
  },
  {
   "cell_type": "code",
   "execution_count": 7,
   "id": "d13ca8d2-0c5f-4b64-a89c-4258757c998d",
   "metadata": {},
   "outputs": [],
   "source": [
    "def nearest_line_bedmachine(lats_swath, lons_swath, data_grid, grid_bedmachine):\n",
    "    \"\"\"\n",
    "    Function that uses the lat/lon points of a search line get indices of the closest lat/lon points in the Bedmachine dataset.\n",
    "    Returns 'index_array_2d' which provides indices in bathymetry data that most closely match points along the search line.\n",
    "    \"\"\"\n",
    "    \n",
    "    # find nearest neighbor lat/lon values from bedmachine data using normal line lat/lon swaths\n",
    "    swath = pyresample.geometry.SwathDefinition(lons=lons_swath, lats=lats_swath)\n",
    "    \n",
    "    # Determine nearest (w.r.t. great circle distance) neighbour in the grid.\n",
    "    _, _, index_array, distance_array = pyresample.kd_tree.get_neighbour_info(\n",
    "        source_geo_def=grid_bedmachine, target_geo_def=swath, radius_of_influence=250,neighbours=1)\n",
    "    \n",
    "    # get_neighbour_info() returns indices in the flattened lat/lon grid. Compute the 2D grid indices:\n",
    "    index_array_2d = np.unravel_index(index_array, grid_bedmachine.shape)\n",
    "    \n",
    "    return index_array_2d"
   ]
  },
  {
   "cell_type": "code",
   "execution_count": 8,
   "id": "6b6b29e3-34d4-4f5a-b723-f8ab8162af66",
   "metadata": {},
   "outputs": [],
   "source": [
    "def get_search_line_and_peak(lon_thalweg_slice, lat_thalweg_slice, line_points_array, azimuth, distance, data_grid,\\\n",
    "                             lat_grid_bedmachine, lon_grid_bedmachine, grid_bedmachine):\n",
    "    \n",
    "    \"\"\"\n",
    "    Function that creates a search line that extends from the thalweg on either side (north side='plus'; south side='minus')\n",
    "    Along each search line, the point of maximum elevation (i.e., the ridge) is selected.\n",
    "    Returns DataArray with search line's lat/lon coordinates, elevation, and peak index (=point along search line selected as ridge).\n",
    "    \n",
    "    Note: This function utilizes nearest_line_bedmachine() function defined above.\n",
    "    \"\"\"\n",
    "    \n",
    "    # get line (with defined length and # points equal to line_points_array) at specified angle (=azimuth)\n",
    "    line_swath = great_circle(distance=line_points_array, azimuth=azimuth, latitude=lat_thalweg_slice, longitude=lon_thalweg_slice)\n",
    "    lons_swath = line_swath['longitude']\n",
    "    lats_swath = line_swath['latitude']\n",
    "    \n",
    "    # function that uses lat/lon from search line (=swath) to get closest lat/lon point and bathymetry value from Bedmachine dataset\n",
    "    index_array_2d = nearest_line_bedmachine(lats_swath, lons_swath, data_grid, grid_bedmachine)\n",
    "    \n",
    "    # get search line lat/lons\n",
    "    lat_line = lat_grid_bedmachine[index_array_2d][:] # lat points for line along which I select the max elevation\n",
    "    lon_line = lon_grid_bedmachine[index_array_2d][:] # lon points for line along which I select the max elevation\n",
    "    # get bathymetry values along search line\n",
    "    bathy_line = np.array([data_grid[index_array_2d]])\n",
    "    \n",
    "    # create array of line indices\n",
    "    line_indices = np.arange(len(line_points_array))\n",
    "    \n",
    "    ## FIND INDEX OF PEAK ELEVATION ##\n",
    "    # if there are multiple maximums and the difference is greater than X meters, then select first max\n",
    "    line_tmp = data_grid[index_array_2d] # pull out search line\n",
    "    # identify local max and mins\n",
    "    local_max = argrelextrema(line_tmp, np.greater)[0]\n",
    "    local_min = argrelextrema(line_tmp, np.less)[0]\n",
    "    # get difference in elevation along line\n",
    "    diff_array = np.diff(line_tmp)\n",
    "    \n",
    "    # if 0 (surface) is the max, take the first instance of 0\n",
    "    if line_tmp.max() == 0:\n",
    "        index_peak = np.argmax(line_tmp)\n",
    "    elif len(local_max) == 0:\n",
    "        index_peak = int(len(line_tmp)/2)\n",
    "    ## if there is only 1 peak, take maximum\n",
    "    elif len(local_max) == 1:\n",
    "        index_peak = local_max[0]\n",
    "    ## Select the local max elevation if:\n",
    "    # 1) if there is more than one peak (local maxima) and\n",
    "    # 2) the difference in elevation between the local max and min is greater than 50m (=less than -50m)\n",
    "    elif len(local_max) > 1:\n",
    "        # first calculate the difference in elevation between all local mins/maxs\n",
    "        diff_elevation = []\n",
    "        for i in range(len(local_max)-1):\n",
    "            diff_elevation.append(diff_array[(local_max[i]):local_min[i]].sum())\n",
    "    \n",
    "        # if the last point is a minimum, it is not considered a local min, so we need to add the last elevation change here\n",
    "        if len(local_max)!=len(local_min):\n",
    "            diff_elevation.append(diff_array[(local_max[-1]):].sum())\n",
    "        \n",
    "        # if any elevation change between local mins/maxes exceeds our threshold, select that maximum\n",
    "        if np.any(np.array(diff_elevation) < -100):\n",
    "            index_local_max = np.where(np.array(diff_elevation) < -100)[0][0] # get index of the first local max that exceeds our threshold\n",
    "            index_peak = local_max[index_local_max]\n",
    "        # if none exceed threshold and the last point is NOT the max value, then take maximum\n",
    "        elif np.argmax(line_tmp) != (len(line_tmp)-1):\n",
    "            index_peak = np.argmax(line_tmp)\n",
    "        # if none exceed threshold and the max elevation is the last point on the line, select a midpoint\n",
    "        else: index_peak = int(len(line_tmp)/2)\n",
    "\n",
    "    line_da = xr.DataArray(data=bathy_line, dims=['distance','line_indices'],\n",
    "                           coords={'distance':[distance],'line_indices':line_indices,\n",
    "                                   'lon':(['line_indices'],lon_line), 'lat':(['line_indices'],lat_line), 'index_peak':(['distance'],[index_peak])})\n",
    "    \n",
    "    return line_da"
   ]
  },
  {
   "cell_type": "code",
   "execution_count": 9,
   "id": "9d852cd1-2812-43b6-b927-2ccfb5d4312e",
   "metadata": {},
   "outputs": [],
   "source": [
    "def get_ridge_points(lines_ds):\n",
    "    \"\"\"\n",
    "    Use 'peak_index' coordinate in 'lines_ds' to extract bathymetry and lat/lon coordinates for the ridgeline.\n",
    "    Returns DataArray of final ridgeline.\n",
    "    \"\"\"\n",
    "    bathy_peak = []\n",
    "    for i in range(len(lines_ds.distance.values)):\n",
    "        bathy_peak.append(lines_ds.values[i][lines_ds.index_peak.data[i]])\n",
    "        \n",
    "    lat_peak = []\n",
    "    for i in range(len(lines_ds.distance.values)):\n",
    "        lat_peak.append(lines_ds.lat.values[i][lines_ds.index_peak.data[i]])\n",
    "    \n",
    "    lon_peak = []\n",
    "    for i in range(len(lines_ds.distance.values)):\n",
    "        lon_peak.append(lines_ds.lon.values[i][lines_ds.index_peak.data[i]])\n",
    "        \n",
    "    # build DataArray for final ridgeline\n",
    "    ridgeline_da = xr.DataArray(data=bathy_peak, dims=['distance'],\n",
    "                                coords={'distance':lines_ds.distance.values,'index_peak':(['distance'], lines_ds.index_peak.data),\n",
    "                                        'lat':(['distance'], lat_peak), 'lon':(['distance'], lon_peak)})\n",
    "    return ridgeline_da"
   ]
  },
  {
   "cell_type": "code",
   "execution_count": 10,
   "id": "9140e2f4-22a0-494d-b5c3-824cf04a1eb2",
   "metadata": {},
   "outputs": [],
   "source": [
    "def define_canyon_ridgeline(bed_masked_ds, lon_thalweg_array, lat_thalweg_array, lon_ref_array, lat_ref_array,\\\n",
    "                            transect_points_df, location='transect', slice_by=30, search_line_length=5000):\n",
    "    \"\"\"\n",
    "    Function that:\n",
    "    1) searches along lines extending from the thalweg to reference line\n",
    "    2) identifies the maximum elevation (i.e., ridge) using specified criteria\n",
    "    3) smoothes ridgelines by identifying outlier points and using neighboring points to interpolate correct ridge position\n",
    "    4) saves six netCDFs:\n",
    "        - ridgeline_minus_da        = DataArray with selected maximum elevation points along southern ridge relative to thalweg (= 'minus') without smoothing\n",
    "        - ridgeline_plus_da         = DataArray with selected maximum elevation points along northern ridge relative to thalweg (= 'plus') without smoothing\n",
    "        - ridgeline_minus_smooth_da = DataArray with selected maximum elevation points along southern ridge with smoothing\n",
    "        - ridgeline_plus_smooth_da  = DataArray with selected maximum elevation points along northern ridge with smoothing\n",
    "        - lines_minus_ds            = Dataset with search lines for 'minus' ridge (south of thalweg) used to extract max elevation points\n",
    "        - lines_plus_ds             = Dataset with search lines for 'plus' ridge (north of thalweg) used to extract max elevation points\n",
    "    5) Returns variables of the six arrays/datsets defined in (4)\n",
    "    \n",
    "    Variables: \n",
    "        - location='transect':     Name of location for transect\n",
    "        - slice_by=30:             At what resolution the program will sample ridgeline points by (default: slice every 30 points of thalweg line)\n",
    "        - search_line_length=5000: Length of search lines in meters (default: 5000 m)\n",
    "    \n",
    "    Note: This function utilizes get_search_line_and_peak() and get_ridge_points() functions defined above.\n",
    "    \"\"\"\n",
    "    \n",
    "    # subset the thalweg and reference line points because we don't need to sample at a dense resolution of every 50 m\n",
    "    lon_thalweg_slice = np.append(lon_thalweg_array[0::slice_by],lon_thalweg_array[-1]) # selects every `slice_by` element + last point\n",
    "    lat_thalweg_slice = np.append(lat_thalweg_array[0::slice_by],lat_thalweg_array[-1]) # selects every `slice_by` element + last point\n",
    "    lon_ref_slice = np.append(lon_ref_array[0::5],lon_ref_array[-1])\n",
    "    lat_ref_slice = np.append(lat_ref_array[0::5],lat_ref_array[-1])\n",
    "    \n",
    "    # how many points to sample bathymetry along search line\n",
    "    line_points_array = np.arange(1000, search_line_length+200, 200)\n",
    "\n",
    "    # USING REFERENCE LINE --------------------------------------------\n",
    "    # find matching points on line running parallel to thalweg and thalweg points (= two points with minimum distance between them) and obtain angle\n",
    "    angle_to_ref_minus = []\n",
    "    angle_to_ref_plus = []\n",
    "    for i in tqdm_notebook(range(len(lon_thalweg_slice)), desc='get ref angle'):\n",
    "        tmp = great_distance(start_latitude=[lat_thalweg_slice[i]] * len(lat_ref_slice), start_longitude=[lon_thalweg_slice[i]] * len(lon_ref_slice), \n",
    "                             end_latitude=lat_ref_slice, end_longitude=lon_ref_slice)\n",
    "        \n",
    "        distance = tmp['distance'].tolist()\n",
    "        azimuth = tmp['azimuth'].tolist()\n",
    "        azimuth_reverse = tmp['reverse_azimuth'].tolist()\n",
    "        \n",
    "        matching_point_index = np.argmin(distance) # index of point along ref line that corresponds to closest point on thalweg\n",
    "        angle_to_ref_minus.append(azimuth[matching_point_index]) # angle between thalweg point and matching point on ref line\n",
    "        angle_to_ref_plus.append(azimuth_reverse[matching_point_index])\n",
    "\n",
    "    # Define lat-lon grid\n",
    "    lon_grid_bedmachine = bed_masked_ds.lon.values\n",
    "    lat_grid_bedmachine = bed_masked_ds.lat.values\n",
    "    grid_bedmachine = pyresample.geometry.GridDefinition(lats=lat_grid_bedmachine, lons=lon_grid_bedmachine)\n",
    "    # Data on the grid\n",
    "    data_grid = bed_masked_ds.values\n",
    "    \n",
    "    index_peak_minus = []\n",
    "    lats_minus = []\n",
    "    lons_minus = []\n",
    "    bathy_minus = []\n",
    "    index_peak_plus = []\n",
    "    lats_plus = []\n",
    "    lons_plus = []\n",
    "    bathy_plus = []\n",
    "    \n",
    "    lon_thalweg = lon_thalweg_slice.copy()[:-1]\n",
    "    lat_thalweg = lat_thalweg_slice.copy()[:-1]\n",
    "    \n",
    "    search_lines_lat_minus = []\n",
    "    search_lines_lon_minus = []\n",
    "    search_lines_lat_plus = []\n",
    "    search_lines_lon_plus = []\n",
    "    \n",
    "    # create dataset with search lines and associated bathymetry values along those lines for each point along the thalweg\n",
    "    distance_transect = transect_points_df.distance.to_numpy()  \n",
    "    distance_slice = distance_transect[0::slice_by]\n",
    "    \n",
    "    for i in tqdm_notebook(range(len(lon_thalweg)), desc='get peaks'):\n",
    "        # returns peak bathymetry value along line and corresponding lat/lon coordinates\n",
    "        line_da_minus = get_search_line_and_peak(lon_thalweg[i], lat_thalweg[i], line_points_array, angle_to_ref_minus[i], distance_slice[i],\n",
    "                                                 data_grid, lat_grid_bedmachine, lon_grid_bedmachine, grid_bedmachine)\n",
    "        line_da_plus = get_search_line_and_peak(lon_thalweg[i], lat_thalweg[i], line_points_array, angle_to_ref_plus[i], distance_slice[i],\n",
    "                                                data_grid, lat_grid_bedmachine, lon_grid_bedmachine, grid_bedmachine)\n",
    "      \n",
    "        if i == 0:\n",
    "            lines_minus_ds = line_da_minus.copy(deep=True)\n",
    "            lines_plus_ds = line_da_plus.copy(deep=True)\n",
    "        else:\n",
    "            lines_minus_ds = xr.concat([lines_minus_ds, line_da_minus], dim='distance')\n",
    "            lines_plus_ds = xr.concat([lines_plus_ds, line_da_plus], dim='distance')\n",
    "    \n",
    "    ## Save DataArrays of unfiltered canyon ridgelines\n",
    "    ridgeline_minus_da = get_ridge_points(lines_minus_ds)\n",
    "    ridgeline_plus_da = get_ridge_points(lines_plus_ds)\n",
    "    \n",
    "    # fix outliers\n",
    "    for i in tqdm_notebook(range(len(lines_minus_ds.index_peak.values)), desc='smooth minus'):\n",
    "        if (i>=2 and i<=(len(lines_minus_ds.index_peak.values)-2)):\n",
    "            data_tmp = lines_minus_ds.isel(distance=slice(i-1,i+4)) # slice data by 2 points before and after [i]\n",
    "        # need to treat points at the beginning and ends of the array differently since they don't have 2 points on either side\n",
    "        elif i<2:\n",
    "            data_tmp = lines_minus_ds.isel(distance=slice(0,5)) # select first 4 points\n",
    "        else:\n",
    "            data_tmp = lines_minus_ds.isel(distance=slice(len(lines_minus_ds.distance.values)-5,len(lines_minus_ds.distance.values))) # select last 4 points\n",
    "        # pull out indices from data\n",
    "        indices_tmp = data_tmp.index_peak  \n",
    "        \n",
    "        # if the average peak elevation within `indices_tmp` is 0, keep the point @zero\n",
    "        # if the average peak elevation is NOT zero, see if it is an outlier:\n",
    "        # first pull out the bathymetry values originally selected using `index_peak`\n",
    "        ridge_tmp = get_ridge_points(data_tmp)\n",
    "        if int(ridge_tmp.values.mean()) != 0:\n",
    "            # get difference between neighboring points ([i] minus [i] = 0)\n",
    "            diff_tmp = indices_tmp - lines_minus_ds.index_peak.isel(distance=i)\n",
    "            \n",
    "            # does the index i differ from its neighbors by more than 10 points?\n",
    "            bool_tmp = np.logical_or((diff_tmp>10),(diff_tmp<-10)).values\n",
    "            \n",
    "            # if there are more than 3 TRUEs, then the point is considered an outlier \n",
    "            # (i.e., it differs enough from at least two neighboring points)\n",
    "            if bool_tmp.sum() >= 3:  # sum() will count how many TRUEs there are in a list\n",
    "                # replace the original peak_index value with a new one that resembles its neighbors\n",
    "                # take the mean of neighbors that fall along the ridgeline\n",
    "                # only use the 'True' values for the mean()\n",
    "                lines_minus_ds.index_peak.values[i] = int(indices_tmp.index_peak.isel(distance=bool_tmp).mean())\n",
    "    \n",
    "    for i in tqdm_notebook(range(len(lines_plus_ds.index_peak.values)), desc='smooth plus'):\n",
    "        if (i>=2 and i<=(len(lines_plus_ds.index_peak.values)-2)):\n",
    "            data_tmp = lines_plus_ds.isel(distance=slice(i-1,i+4)) # slice data by 2 points before and after [i]\n",
    "        # need to treat points at the beginning and ends of the array differently since they don't have 2 points on either side\n",
    "        elif i<2:\n",
    "            data_tmp = lines_plus_ds.isel(distance=slice(0,5)) # select first 4 points\n",
    "        else:\n",
    "            data_tmp = lines_plus_ds.isel(distance=slice(len(lines_plus_ds.distance.values)-5,len(lines_plus_ds.distance.values))) # select last 4 points\n",
    "        # pull out indices from data\n",
    "        indices_tmp = data_tmp.index_peak  \n",
    "        \n",
    "        # if the average peak elevation within `indices_tmp` is 0, keep the point @zero\n",
    "        # if the average peak elevation is NOT zero, see if it is an outlier:\n",
    "        # first pull out the bathymetry values originally selected using `index_peak`\n",
    "        ridge_tmp = get_ridge_points(data_tmp)\n",
    "        if int(ridge_tmp.values.mean()) != 0:\n",
    "            # get difference between neighboring points ([i] minus [i] = 0)\n",
    "            diff_tmp = indices_tmp - lines_plus_ds.index_peak.isel(distance=i)\n",
    "            \n",
    "            # does the index i differ from its neighbors by more than 10 points?\n",
    "            bool_tmp = np.logical_or((diff_tmp>10),(diff_tmp<-10)).values\n",
    "            \n",
    "            # if there are more than 3 TRUEs, then the point is considered an outlier \n",
    "            #(i.e., it differs enough from at least two neighboring points)\n",
    "            if bool_tmp.sum() >= 3:  # sum() will count how many TRUEs there are in a list\n",
    "                # replace the original peak_index value with a new one that resembles its neighbors\n",
    "                # take the mean of neighbors that fall along the ridgeline\n",
    "                # only use the 'True' values for the mean()\n",
    "                lines_plus_ds.index_peak.values[i] = int(indices_tmp.index_peak.isel(distance=bool_tmp).mean()) \n",
    "    \n",
    "    ## Save DataArrays of filtered canyon rideglines (outliers corrected)\n",
    "    ridgeline_minus_smooth_da = get_ridge_points(lines_minus_ds)\n",
    "    ridgeline_plus_smooth_da = get_ridge_points(lines_plus_ds)\n",
    "    \n",
    "    ## give names to DataArrays (They will be saved as Datasets with variable name = DataArray name)\n",
    "    ridgeline_minus_da.name = 'ridgeline_minus'\n",
    "    ridgeline_plus_da.name  = 'ridgeline_plus'\n",
    "    ridgeline_minus_smooth_da.name = 'ridgeline_minus_smooth' # where outliers were corrected\n",
    "    ridgeline_plus_smooth_da.name  = 'ridgeline_plus_smooth' # where outliers were corrected\n",
    "    lines_minus_ds.name = 'lines_minus'\n",
    "    lines_plus_ds.name  = 'lines_plus'\n",
    "    \n",
    "    ## Save/export netcdfs of final ridgeline DataArray\n",
    "    ridgeline_minus_da.to_netcdf('netcdfs/' + location + '_ridgeline_minus.nc')\n",
    "    ridgeline_plus_da.to_netcdf('netcdfs/' + location + '_ridgeline_plus.nc')\n",
    "    \n",
    "    ridgeline_minus_smooth_da.to_netcdf('netcdfs/' + location + '_ridgeline_minus_smooth.nc')\n",
    "    ridgeline_plus_smooth_da.to_netcdf('netcdfs/' + location + '_ridgeline_plus_smooth.nc')\n",
    "    \n",
    "    lines_minus_ds.to_netcdf('netcdfs/' + location + '_lines_minus.nc')\n",
    "    lines_plus_ds.to_netcdf('netcdfs/' + location + '_lines_plus.nc')\n",
    "    \n",
    "    return ridgeline_minus_da, ridgeline_plus_da, ridgeline_minus_smooth_da, ridgeline_plus_smooth_da, lines_minus_ds, lines_plus_ds"
   ]
  },
  {
   "cell_type": "markdown",
   "id": "8f1165d4-60fe-491a-ad46-a55e9336a2a4",
   "metadata": {},
   "source": [
    "### 3.3. Run program"
   ]
  },
  {
   "cell_type": "markdown",
   "id": "4217f4ef-375b-4932-968b-1c60d17f0a96",
   "metadata": {},
   "source": [
    "#### 3.3.1. Rink"
   ]
  },
  {
   "cell_type": "code",
   "execution_count": 11,
   "id": "42db8d92-10e5-4f1f-95c4-732888ad01e7",
   "metadata": {},
   "outputs": [
    {
     "data": {
      "application/vnd.jupyter.widget-view+json": {
       "model_id": "62651d2a766a48e2815cb7e7e4a6057e",
       "version_major": 2,
       "version_minor": 0
      },
      "text/plain": [
       "get ref angle:   0%|          | 0/212 [00:00<?, ?it/s]"
      ]
     },
     "metadata": {},
     "output_type": "display_data"
    },
    {
     "data": {
      "application/vnd.jupyter.widget-view+json": {
       "model_id": "c2b634c197434ae6977aef8083fa27d7",
       "version_major": 2,
       "version_minor": 0
      },
      "text/plain": [
       "get peaks:   0%|          | 0/211 [00:00<?, ?it/s]"
      ]
     },
     "metadata": {},
     "output_type": "display_data"
    },
    {
     "data": {
      "application/vnd.jupyter.widget-view+json": {
       "model_id": "39f16d944ff24109b3d961c76f71a3de",
       "version_major": 2,
       "version_minor": 0
      },
      "text/plain": [
       "smooth minus:   0%|          | 0/211 [00:00<?, ?it/s]"
      ]
     },
     "metadata": {},
     "output_type": "display_data"
    },
    {
     "data": {
      "application/vnd.jupyter.widget-view+json": {
       "model_id": "c4d6796173bb49b596cbd37cd3153465",
       "version_major": 2,
       "version_minor": 0
      },
      "text/plain": [
       "smooth plus:   0%|          | 0/211 [00:00<?, ?it/s]"
      ]
     },
     "metadata": {},
     "output_type": "display_data"
    }
   ],
   "source": [
    "rink_ridge_minus_da, rink_ridge_plus_da, rink_ridge_minus_smooth_da,\\\n",
    "rink_ridge_plus_smooth_da, rink_lines_minus_ds, rink_lines_plus_ds = define_canyon_ridgeline(bed_masked_ds, rink_lon, rink_lat, rink_ref_lon,\\\n",
    "                                                                                             rink_ref_lat, rink_transect_points_df,\\\n",
    "                                                                                             location='rink', slice_by=10,\\\n",
    "                                                                                             search_line_length=8000)\n",
    "\n",
    "# Progress bar provides: Total Elapsed Time, Estimated Time to Complete the whole loop, \n",
    "# and the speed of the loop in iterations per second (it/s)"
   ]
  },
  {
   "cell_type": "markdown",
   "id": "9b83da5c-23d0-4c6b-b3f9-fc66fb0bec7f",
   "metadata": {},
   "source": [
    "#### 3.3.2. Kong Oscar"
   ]
  },
  {
   "cell_type": "code",
   "execution_count": 12,
   "id": "c495b8f6-fd2b-423e-bef0-ef61362d56c5",
   "metadata": {},
   "outputs": [
    {
     "data": {
      "application/vnd.jupyter.widget-view+json": {
       "model_id": "806c33bda75a4fe3b9e93ce1027626ec",
       "version_major": 2,
       "version_minor": 0
      },
      "text/plain": [
       "get ref angle:   0%|          | 0/269 [00:00<?, ?it/s]"
      ]
     },
     "metadata": {},
     "output_type": "display_data"
    },
    {
     "data": {
      "application/vnd.jupyter.widget-view+json": {
       "model_id": "9e8bb701a4a24d15a4f17ead1497f8fa",
       "version_major": 2,
       "version_minor": 0
      },
      "text/plain": [
       "get peaks:   0%|          | 0/268 [00:00<?, ?it/s]"
      ]
     },
     "metadata": {},
     "output_type": "display_data"
    },
    {
     "data": {
      "application/vnd.jupyter.widget-view+json": {
       "model_id": "eb079886415b4b659ae6541dcf7b8487",
       "version_major": 2,
       "version_minor": 0
      },
      "text/plain": [
       "smooth minus:   0%|          | 0/268 [00:00<?, ?it/s]"
      ]
     },
     "metadata": {},
     "output_type": "display_data"
    },
    {
     "data": {
      "application/vnd.jupyter.widget-view+json": {
       "model_id": "8fc4425c31f845d097ea694ff6c81730",
       "version_major": 2,
       "version_minor": 0
      },
      "text/plain": [
       "smooth plus:   0%|          | 0/268 [00:00<?, ?it/s]"
      ]
     },
     "metadata": {},
     "output_type": "display_data"
    }
   ],
   "source": [
    "kong_ridge_minus_da, kong_ridge_plus_da, kong_ridge_minus_smooth_da,\\\n",
    "kong_ridge_plus_smooth_da, kong_lines_minus_ds, kong_lines_plus_ds = define_canyon_ridgeline(bed_masked_ds, kong_lon, kong_lat, kong_ref_lon,\\\n",
    "                                                                                             kong_ref_lat, kong_transect_points_df,\\\n",
    "                                                                                             location='kongoscar', slice_by=10,\\\n",
    "                                                                                             search_line_length=8000)"
   ]
  },
  {
   "cell_type": "markdown",
   "id": "9c4722d0-2b94-4bb4-96ac-202e6d0922fc",
   "metadata": {},
   "source": [
    "#### 3.3.3. Sverdrup"
   ]
  },
  {
   "cell_type": "code",
   "execution_count": 15,
   "id": "e70f85b4-d7bd-45e0-a567-8f3bbd3d17d8",
   "metadata": {},
   "outputs": [
    {
     "data": {
      "application/vnd.jupyter.widget-view+json": {
       "model_id": "c9d8606819344a21a1ce0bc13fcc52aa",
       "version_major": 2,
       "version_minor": 0
      },
      "text/plain": [
       "get ref angle:   0%|          | 0/242 [00:00<?, ?it/s]"
      ]
     },
     "metadata": {},
     "output_type": "display_data"
    },
    {
     "data": {
      "application/vnd.jupyter.widget-view+json": {
       "model_id": "7f7c2c42135e4e43b19b3907d15c08a8",
       "version_major": 2,
       "version_minor": 0
      },
      "text/plain": [
       "get peaks:   0%|          | 0/241 [00:00<?, ?it/s]"
      ]
     },
     "metadata": {},
     "output_type": "display_data"
    },
    {
     "data": {
      "application/vnd.jupyter.widget-view+json": {
       "model_id": "686769cbd1164abfbd96f34ce41f9f08",
       "version_major": 2,
       "version_minor": 0
      },
      "text/plain": [
       "smooth minus:   0%|          | 0/241 [00:00<?, ?it/s]"
      ]
     },
     "metadata": {},
     "output_type": "display_data"
    },
    {
     "data": {
      "application/vnd.jupyter.widget-view+json": {
       "model_id": "dfd4085a00344a09896fc0e580e18f44",
       "version_major": 2,
       "version_minor": 0
      },
      "text/plain": [
       "smooth plus:   0%|          | 0/241 [00:00<?, ?it/s]"
      ]
     },
     "metadata": {},
     "output_type": "display_data"
    }
   ],
   "source": [
    "sver_ridge_minus_da, sver_ridge_plus_da, sver_ridge_minus_smooth_da,\\\n",
    "sver_ridge_plus_smooth_da, sver_lines_minus_ds, sver_lines_plus_ds = define_canyon_ridgeline(bed_masked_ds, sver_lon, sver_lat, sver_ref_lon,\\\n",
    "                                                                                             sver_ref_lat, sver_transect_points_df,\\\n",
    "                                                                                             location='sverdrup', slice_by=10,\\\n",
    "                                                                                             search_line_length=8000)"
   ]
  }
 ],
 "metadata": {
  "kernelspec": {
   "display_name": "Python 3 (ipykernel)",
   "language": "python",
   "name": "python3"
  },
  "language_info": {
   "codemirror_mode": {
    "name": "ipython",
    "version": 3
   },
   "file_extension": ".py",
   "mimetype": "text/x-python",
   "name": "python",
   "nbconvert_exporter": "python",
   "pygments_lexer": "ipython3",
   "version": "3.9.13"
  }
 },
 "nbformat": 4,
 "nbformat_minor": 5
}
