{
 "cells": [
  {
   "cell_type": "markdown",
   "id": "3aa8a5b1-f089-49d2-8e9c-7b28b98b396f",
   "metadata": {
    "tags": []
   },
   "source": [
    "## ECCO - Melville Bay"
   ]
  },
  {
   "cell_type": "markdown",
   "id": "22b1df9b-eb62-4ea3-b7cb-9ccf7143bda4",
   "metadata": {},
   "source": [
    "### Export netcdfs for sequential rows"
   ]
  },
  {
   "cell_type": "code",
   "execution_count": 1,
   "id": "0aedb001-7a03-48f4-a362-df899282ba8d",
   "metadata": {
    "tags": []
   },
   "outputs": [],
   "source": [
    "import numpy as np\n",
    "import pandas as pd\n",
    "import xarray as xr\n",
    "from pathlib import Path\n",
    "import glob"
   ]
  },
  {
   "cell_type": "markdown",
   "id": "f8110b18-01fa-4d8b-b523-761c70427feb",
   "metadata": {},
   "source": [
    "#### Create netCDFs for theta and salt"
   ]
  },
  {
   "cell_type": "code",
   "execution_count": 2,
   "id": "629ace63-51ff-45f5-911e-a436d858dd06",
   "metadata": {},
   "outputs": [],
   "source": [
    "ecco_melville_theta_dir = Path('/Volumes/OMGNarwhals/PhD_chap3/data/ECCO_melville/W_Greenland/THETA/')\n",
    "ecco_melville_salt_dir = Path('/Volumes/OMGNarwhals/PhD_chap3/data/ECCO_melville/W_Greenland/SALT/')"
   ]
  },
  {
   "cell_type": "code",
   "execution_count": 3,
   "id": "cab5fcb8-e7ce-4462-90ec-6bcf659521c7",
   "metadata": {},
   "outputs": [],
   "source": [
    "theta_files = list(ecco_melville_theta_dir.glob('*nc'))\n",
    "salt_files = list(ecco_melville_salt_dir.glob('*nc'))"
   ]
  },
  {
   "cell_type": "code",
   "execution_count": 4,
   "id": "8d2a5d75-8859-4269-b236-086d8cee0904",
   "metadata": {},
   "outputs": [],
   "source": [
    "## theta\n",
    "theta_ds = xr.open_mfdataset(theta_files,combine='nested',concat_dim='time',parallel=True,\\\n",
    "                            data_vars='all', coords='all')"
   ]
  },
  {
   "cell_type": "code",
   "execution_count": 87,
   "id": "801a8279-ac5f-418e-9730-192191c9c053",
   "metadata": {},
   "outputs": [],
   "source": [
    "## salt\n",
    "salt_ds = xr.open_mfdataset(salt_files,combine='nested',concat_dim='time',parallel=True,\\\n",
    "                            data_vars='all', coords='all')"
   ]
  },
  {
   "cell_type": "markdown",
   "id": "f8ce587d-c59f-4aa3-b81b-f92b31bfbf07",
   "metadata": {},
   "source": [
    "Look at size of each grid cell"
   ]
  },
  {
   "cell_type": "code",
   "execution_count": 6,
   "id": "787deeb5-2209-424f-bcf3-53258874c28b",
   "metadata": {},
   "outputs": [],
   "source": [
    "## open geometry file\n",
    "geometry = xr.open_dataset('SASSIE_N1_geometry_v3.nc')"
   ]
  },
  {
   "cell_type": "code",
   "execution_count": 7,
   "id": "339aacd0-3170-4269-a0c2-6d5309d1983a",
   "metadata": {},
   "outputs": [
    {
     "data": {
      "text/html": [
       "<div><svg style=\"position: absolute; width: 0; height: 0; overflow: hidden\">\n",
       "<defs>\n",
       "<symbol id=\"icon-database\" viewBox=\"0 0 32 32\">\n",
       "<path d=\"M16 0c-8.837 0-16 2.239-16 5v4c0 2.761 7.163 5 16 5s16-2.239 16-5v-4c0-2.761-7.163-5-16-5z\"></path>\n",
       "<path d=\"M16 17c-8.837 0-16-2.239-16-5v6c0 2.761 7.163 5 16 5s16-2.239 16-5v-6c0 2.761-7.163 5-16 5z\"></path>\n",
       "<path d=\"M16 26c-8.837 0-16-2.239-16-5v6c0 2.761 7.163 5 16 5s16-2.239 16-5v-6c0 2.761-7.163 5-16 5z\"></path>\n",
       "</symbol>\n",
       "<symbol id=\"icon-file-text2\" viewBox=\"0 0 32 32\">\n",
       "<path d=\"M28.681 7.159c-0.694-0.947-1.662-2.053-2.724-3.116s-2.169-2.030-3.116-2.724c-1.612-1.182-2.393-1.319-2.841-1.319h-15.5c-1.378 0-2.5 1.121-2.5 2.5v27c0 1.378 1.122 2.5 2.5 2.5h23c1.378 0 2.5-1.122 2.5-2.5v-19.5c0-0.448-0.137-1.23-1.319-2.841zM24.543 5.457c0.959 0.959 1.712 1.825 2.268 2.543h-4.811v-4.811c0.718 0.556 1.584 1.309 2.543 2.268zM28 29.5c0 0.271-0.229 0.5-0.5 0.5h-23c-0.271 0-0.5-0.229-0.5-0.5v-27c0-0.271 0.229-0.5 0.5-0.5 0 0 15.499-0 15.5 0v7c0 0.552 0.448 1 1 1h7v19.5z\"></path>\n",
       "<path d=\"M23 26h-14c-0.552 0-1-0.448-1-1s0.448-1 1-1h14c0.552 0 1 0.448 1 1s-0.448 1-1 1z\"></path>\n",
       "<path d=\"M23 22h-14c-0.552 0-1-0.448-1-1s0.448-1 1-1h14c0.552 0 1 0.448 1 1s-0.448 1-1 1z\"></path>\n",
       "<path d=\"M23 18h-14c-0.552 0-1-0.448-1-1s0.448-1 1-1h14c0.552 0 1 0.448 1 1s-0.448 1-1 1z\"></path>\n",
       "</symbol>\n",
       "</defs>\n",
       "</svg>\n",
       "<style>/* CSS stylesheet for displaying xarray objects in jupyterlab.\n",
       " *\n",
       " */\n",
       "\n",
       ":root {\n",
       "  --xr-font-color0: var(--jp-content-font-color0, rgba(0, 0, 0, 1));\n",
       "  --xr-font-color2: var(--jp-content-font-color2, rgba(0, 0, 0, 0.54));\n",
       "  --xr-font-color3: var(--jp-content-font-color3, rgba(0, 0, 0, 0.38));\n",
       "  --xr-border-color: var(--jp-border-color2, #e0e0e0);\n",
       "  --xr-disabled-color: var(--jp-layout-color3, #bdbdbd);\n",
       "  --xr-background-color: var(--jp-layout-color0, white);\n",
       "  --xr-background-color-row-even: var(--jp-layout-color1, white);\n",
       "  --xr-background-color-row-odd: var(--jp-layout-color2, #eeeeee);\n",
       "}\n",
       "\n",
       "html[theme=dark],\n",
       "body[data-theme=dark],\n",
       "body.vscode-dark {\n",
       "  --xr-font-color0: rgba(255, 255, 255, 1);\n",
       "  --xr-font-color2: rgba(255, 255, 255, 0.54);\n",
       "  --xr-font-color3: rgba(255, 255, 255, 0.38);\n",
       "  --xr-border-color: #1F1F1F;\n",
       "  --xr-disabled-color: #515151;\n",
       "  --xr-background-color: #111111;\n",
       "  --xr-background-color-row-even: #111111;\n",
       "  --xr-background-color-row-odd: #313131;\n",
       "}\n",
       "\n",
       ".xr-wrap {\n",
       "  display: block !important;\n",
       "  min-width: 300px;\n",
       "  max-width: 700px;\n",
       "}\n",
       "\n",
       ".xr-text-repr-fallback {\n",
       "  /* fallback to plain text repr when CSS is not injected (untrusted notebook) */\n",
       "  display: none;\n",
       "}\n",
       "\n",
       ".xr-header {\n",
       "  padding-top: 6px;\n",
       "  padding-bottom: 6px;\n",
       "  margin-bottom: 4px;\n",
       "  border-bottom: solid 1px var(--xr-border-color);\n",
       "}\n",
       "\n",
       ".xr-header > div,\n",
       ".xr-header > ul {\n",
       "  display: inline;\n",
       "  margin-top: 0;\n",
       "  margin-bottom: 0;\n",
       "}\n",
       "\n",
       ".xr-obj-type,\n",
       ".xr-array-name {\n",
       "  margin-left: 2px;\n",
       "  margin-right: 10px;\n",
       "}\n",
       "\n",
       ".xr-obj-type {\n",
       "  color: var(--xr-font-color2);\n",
       "}\n",
       "\n",
       ".xr-sections {\n",
       "  padding-left: 0 !important;\n",
       "  display: grid;\n",
       "  grid-template-columns: 150px auto auto 1fr 20px 20px;\n",
       "}\n",
       "\n",
       ".xr-section-item {\n",
       "  display: contents;\n",
       "}\n",
       "\n",
       ".xr-section-item input {\n",
       "  display: none;\n",
       "}\n",
       "\n",
       ".xr-section-item input + label {\n",
       "  color: var(--xr-disabled-color);\n",
       "}\n",
       "\n",
       ".xr-section-item input:enabled + label {\n",
       "  cursor: pointer;\n",
       "  color: var(--xr-font-color2);\n",
       "}\n",
       "\n",
       ".xr-section-item input:enabled + label:hover {\n",
       "  color: var(--xr-font-color0);\n",
       "}\n",
       "\n",
       ".xr-section-summary {\n",
       "  grid-column: 1;\n",
       "  color: var(--xr-font-color2);\n",
       "  font-weight: 500;\n",
       "}\n",
       "\n",
       ".xr-section-summary > span {\n",
       "  display: inline-block;\n",
       "  padding-left: 0.5em;\n",
       "}\n",
       "\n",
       ".xr-section-summary-in:disabled + label {\n",
       "  color: var(--xr-font-color2);\n",
       "}\n",
       "\n",
       ".xr-section-summary-in + label:before {\n",
       "  display: inline-block;\n",
       "  content: '►';\n",
       "  font-size: 11px;\n",
       "  width: 15px;\n",
       "  text-align: center;\n",
       "}\n",
       "\n",
       ".xr-section-summary-in:disabled + label:before {\n",
       "  color: var(--xr-disabled-color);\n",
       "}\n",
       "\n",
       ".xr-section-summary-in:checked + label:before {\n",
       "  content: '▼';\n",
       "}\n",
       "\n",
       ".xr-section-summary-in:checked + label > span {\n",
       "  display: none;\n",
       "}\n",
       "\n",
       ".xr-section-summary,\n",
       ".xr-section-inline-details {\n",
       "  padding-top: 4px;\n",
       "  padding-bottom: 4px;\n",
       "}\n",
       "\n",
       ".xr-section-inline-details {\n",
       "  grid-column: 2 / -1;\n",
       "}\n",
       "\n",
       ".xr-section-details {\n",
       "  display: none;\n",
       "  grid-column: 1 / -1;\n",
       "  margin-bottom: 5px;\n",
       "}\n",
       "\n",
       ".xr-section-summary-in:checked ~ .xr-section-details {\n",
       "  display: contents;\n",
       "}\n",
       "\n",
       ".xr-array-wrap {\n",
       "  grid-column: 1 / -1;\n",
       "  display: grid;\n",
       "  grid-template-columns: 20px auto;\n",
       "}\n",
       "\n",
       ".xr-array-wrap > label {\n",
       "  grid-column: 1;\n",
       "  vertical-align: top;\n",
       "}\n",
       "\n",
       ".xr-preview {\n",
       "  color: var(--xr-font-color3);\n",
       "}\n",
       "\n",
       ".xr-array-preview,\n",
       ".xr-array-data {\n",
       "  padding: 0 5px !important;\n",
       "  grid-column: 2;\n",
       "}\n",
       "\n",
       ".xr-array-data,\n",
       ".xr-array-in:checked ~ .xr-array-preview {\n",
       "  display: none;\n",
       "}\n",
       "\n",
       ".xr-array-in:checked ~ .xr-array-data,\n",
       ".xr-array-preview {\n",
       "  display: inline-block;\n",
       "}\n",
       "\n",
       ".xr-dim-list {\n",
       "  display: inline-block !important;\n",
       "  list-style: none;\n",
       "  padding: 0 !important;\n",
       "  margin: 0;\n",
       "}\n",
       "\n",
       ".xr-dim-list li {\n",
       "  display: inline-block;\n",
       "  padding: 0;\n",
       "  margin: 0;\n",
       "}\n",
       "\n",
       ".xr-dim-list:before {\n",
       "  content: '(';\n",
       "}\n",
       "\n",
       ".xr-dim-list:after {\n",
       "  content: ')';\n",
       "}\n",
       "\n",
       ".xr-dim-list li:not(:last-child):after {\n",
       "  content: ',';\n",
       "  padding-right: 5px;\n",
       "}\n",
       "\n",
       ".xr-has-index {\n",
       "  font-weight: bold;\n",
       "}\n",
       "\n",
       ".xr-var-list,\n",
       ".xr-var-item {\n",
       "  display: contents;\n",
       "}\n",
       "\n",
       ".xr-var-item > div,\n",
       ".xr-var-item label,\n",
       ".xr-var-item > .xr-var-name span {\n",
       "  background-color: var(--xr-background-color-row-even);\n",
       "  margin-bottom: 0;\n",
       "}\n",
       "\n",
       ".xr-var-item > .xr-var-name:hover span {\n",
       "  padding-right: 5px;\n",
       "}\n",
       "\n",
       ".xr-var-list > li:nth-child(odd) > div,\n",
       ".xr-var-list > li:nth-child(odd) > label,\n",
       ".xr-var-list > li:nth-child(odd) > .xr-var-name span {\n",
       "  background-color: var(--xr-background-color-row-odd);\n",
       "}\n",
       "\n",
       ".xr-var-name {\n",
       "  grid-column: 1;\n",
       "}\n",
       "\n",
       ".xr-var-dims {\n",
       "  grid-column: 2;\n",
       "}\n",
       "\n",
       ".xr-var-dtype {\n",
       "  grid-column: 3;\n",
       "  text-align: right;\n",
       "  color: var(--xr-font-color2);\n",
       "}\n",
       "\n",
       ".xr-var-preview {\n",
       "  grid-column: 4;\n",
       "}\n",
       "\n",
       ".xr-index-preview {\n",
       "  grid-column: 2 / 5;\n",
       "  color: var(--xr-font-color2);\n",
       "}\n",
       "\n",
       ".xr-var-name,\n",
       ".xr-var-dims,\n",
       ".xr-var-dtype,\n",
       ".xr-preview,\n",
       ".xr-attrs dt {\n",
       "  white-space: nowrap;\n",
       "  overflow: hidden;\n",
       "  text-overflow: ellipsis;\n",
       "  padding-right: 10px;\n",
       "}\n",
       "\n",
       ".xr-var-name:hover,\n",
       ".xr-var-dims:hover,\n",
       ".xr-var-dtype:hover,\n",
       ".xr-attrs dt:hover {\n",
       "  overflow: visible;\n",
       "  width: auto;\n",
       "  z-index: 1;\n",
       "}\n",
       "\n",
       ".xr-var-attrs,\n",
       ".xr-var-data,\n",
       ".xr-index-data {\n",
       "  display: none;\n",
       "  background-color: var(--xr-background-color) !important;\n",
       "  padding-bottom: 5px !important;\n",
       "}\n",
       "\n",
       ".xr-var-attrs-in:checked ~ .xr-var-attrs,\n",
       ".xr-var-data-in:checked ~ .xr-var-data,\n",
       ".xr-index-data-in:checked ~ .xr-index-data {\n",
       "  display: block;\n",
       "}\n",
       "\n",
       ".xr-var-data > table {\n",
       "  float: right;\n",
       "}\n",
       "\n",
       ".xr-var-name span,\n",
       ".xr-var-data,\n",
       ".xr-index-name div,\n",
       ".xr-index-data,\n",
       ".xr-attrs {\n",
       "  padding-left: 25px !important;\n",
       "}\n",
       "\n",
       ".xr-attrs,\n",
       ".xr-var-attrs,\n",
       ".xr-var-data,\n",
       ".xr-index-data {\n",
       "  grid-column: 1 / -1;\n",
       "}\n",
       "\n",
       "dl.xr-attrs {\n",
       "  padding: 0;\n",
       "  margin: 0;\n",
       "  display: grid;\n",
       "  grid-template-columns: 125px auto;\n",
       "}\n",
       "\n",
       ".xr-attrs dt,\n",
       ".xr-attrs dd {\n",
       "  padding: 0;\n",
       "  margin: 0;\n",
       "  float: left;\n",
       "  padding-right: 10px;\n",
       "  width: auto;\n",
       "}\n",
       "\n",
       ".xr-attrs dt {\n",
       "  font-weight: normal;\n",
       "  grid-column: 1;\n",
       "}\n",
       "\n",
       ".xr-attrs dt:hover span {\n",
       "  display: inline-block;\n",
       "  background: var(--xr-background-color);\n",
       "  padding-right: 10px;\n",
       "}\n",
       "\n",
       ".xr-attrs dd {\n",
       "  grid-column: 2;\n",
       "  white-space: pre-wrap;\n",
       "  word-break: break-all;\n",
       "}\n",
       "\n",
       ".xr-icon-database,\n",
       ".xr-icon-file-text2,\n",
       ".xr-no-icon {\n",
       "  display: inline-block;\n",
       "  vertical-align: middle;\n",
       "  width: 1em;\n",
       "  height: 1.5em !important;\n",
       "  stroke-width: 0;\n",
       "  stroke: currentColor;\n",
       "  fill: currentColor;\n",
       "}\n",
       "</style><pre class='xr-text-repr-fallback'>&lt;xarray.Dataset&gt; Size: 2GB\n",
       "Dimensions:  (j: 1080, i: 1440, k: 90)\n",
       "Coordinates:\n",
       "    XC       (j, i) float32 6MB ...\n",
       "    YC       (j, i) float32 6MB ...\n",
       "    Z        (k) float32 360B ...\n",
       "    Zu       (k) float32 360B ...\n",
       "    Zl       (k) float32 360B ...\n",
       "Dimensions without coordinates: j, i, k\n",
       "Data variables:\n",
       "    hFacC    (k, j, i) float64 1GB ...\n",
       "    maskC    (k, j, i) int64 1GB ...\n",
       "    RAC      (j, i) float64 12MB ...\n",
       "    dX       (j, i) float64 12MB ...\n",
       "    drF      (k) float64 720B ...\n",
       "Attributes:\n",
       "    date_created:            2022-04-26T21:59:37\n",
       "    date_modified:           2022-04-26T21:59:37\n",
       "    date_metadata_modified:  2022-04-26T21:59:37\n",
       "    date_issued:             2022-04-26T21:59:37</pre><div class='xr-wrap' style='display:none'><div class='xr-header'><div class='xr-obj-type'>xarray.Dataset</div></div><ul class='xr-sections'><li class='xr-section-item'><input id='section-d6869f88-39c1-4357-a4a5-3dde137a088e' class='xr-section-summary-in' type='checkbox' disabled ><label for='section-d6869f88-39c1-4357-a4a5-3dde137a088e' class='xr-section-summary'  title='Expand/collapse section'>Dimensions:</label><div class='xr-section-inline-details'><ul class='xr-dim-list'><li><span>j</span>: 1080</li><li><span>i</span>: 1440</li><li><span>k</span>: 90</li></ul></div><div class='xr-section-details'></div></li><li class='xr-section-item'><input id='section-03fb2687-07db-4b76-a9b8-d3599e9e0ba5' class='xr-section-summary-in' type='checkbox'  checked><label for='section-03fb2687-07db-4b76-a9b8-d3599e9e0ba5' class='xr-section-summary' >Coordinates: <span>(5)</span></label><div class='xr-section-inline-details'></div><div class='xr-section-details'><ul class='xr-var-list'><li class='xr-var-item'><div class='xr-var-name'><span>XC</span></div><div class='xr-var-dims'>(j, i)</div><div class='xr-var-dtype'>float32</div><div class='xr-var-preview xr-preview'>...</div><input id='attrs-281ebb40-0bfa-4fd6-81d0-8a27c99cf325' class='xr-var-attrs-in' type='checkbox' disabled><label for='attrs-281ebb40-0bfa-4fd6-81d0-8a27c99cf325' title='Show/Hide attributes'><svg class='icon xr-icon-file-text2'><use xlink:href='#icon-file-text2'></use></svg></label><input id='data-79ffb79c-9dc0-4e32-8d8d-358f6687cd1b' class='xr-var-data-in' type='checkbox'><label for='data-79ffb79c-9dc0-4e32-8d8d-358f6687cd1b' title='Show/Hide data repr'><svg class='icon xr-icon-database'><use xlink:href='#icon-database'></use></svg></label><div class='xr-var-attrs'><dl class='xr-attrs'></dl></div><div class='xr-var-data'><pre>[1555200 values with dtype=float32]</pre></div></li><li class='xr-var-item'><div class='xr-var-name'><span>YC</span></div><div class='xr-var-dims'>(j, i)</div><div class='xr-var-dtype'>float32</div><div class='xr-var-preview xr-preview'>...</div><input id='attrs-c4ace9a7-2adc-450a-afff-7129a9f904d1' class='xr-var-attrs-in' type='checkbox' disabled><label for='attrs-c4ace9a7-2adc-450a-afff-7129a9f904d1' title='Show/Hide attributes'><svg class='icon xr-icon-file-text2'><use xlink:href='#icon-file-text2'></use></svg></label><input id='data-c95f58a6-28eb-4521-bedb-0222d510f83a' class='xr-var-data-in' type='checkbox'><label for='data-c95f58a6-28eb-4521-bedb-0222d510f83a' title='Show/Hide data repr'><svg class='icon xr-icon-database'><use xlink:href='#icon-database'></use></svg></label><div class='xr-var-attrs'><dl class='xr-attrs'></dl></div><div class='xr-var-data'><pre>[1555200 values with dtype=float32]</pre></div></li><li class='xr-var-item'><div class='xr-var-name'><span>Z</span></div><div class='xr-var-dims'>(k)</div><div class='xr-var-dtype'>float32</div><div class='xr-var-preview xr-preview'>...</div><input id='attrs-76952ce8-2842-473c-bd31-5a6e6561f55e' class='xr-var-attrs-in' type='checkbox' ><label for='attrs-76952ce8-2842-473c-bd31-5a6e6561f55e' title='Show/Hide attributes'><svg class='icon xr-icon-file-text2'><use xlink:href='#icon-file-text2'></use></svg></label><input id='data-e3f6d29c-4c92-4004-b076-ff2872882fdd' class='xr-var-data-in' type='checkbox'><label for='data-e3f6d29c-4c92-4004-b076-ff2872882fdd' title='Show/Hide data repr'><svg class='icon xr-icon-database'><use xlink:href='#icon-database'></use></svg></label><div class='xr-var-attrs'><dl class='xr-attrs'><dt><span>long_name :</span></dt><dd>grid cell depth at center</dd><dt><span>units :</span></dt><dd>m</dd></dl></div><div class='xr-var-data'><pre>[90 values with dtype=float32]</pre></div></li><li class='xr-var-item'><div class='xr-var-name'><span>Zu</span></div><div class='xr-var-dims'>(k)</div><div class='xr-var-dtype'>float32</div><div class='xr-var-preview xr-preview'>...</div><input id='attrs-c41aaaaa-d36d-4957-ac7d-cbd377998410' class='xr-var-attrs-in' type='checkbox' ><label for='attrs-c41aaaaa-d36d-4957-ac7d-cbd377998410' title='Show/Hide attributes'><svg class='icon xr-icon-file-text2'><use xlink:href='#icon-file-text2'></use></svg></label><input id='data-2dace24e-de37-4c10-ac65-d8552eda637b' class='xr-var-data-in' type='checkbox'><label for='data-2dace24e-de37-4c10-ac65-d8552eda637b' title='Show/Hide data repr'><svg class='icon xr-icon-database'><use xlink:href='#icon-database'></use></svg></label><div class='xr-var-attrs'><dl class='xr-attrs'><dt><span>long_name :</span></dt><dd>grid cell depth at bottom</dd><dt><span>units :</span></dt><dd>m</dd></dl></div><div class='xr-var-data'><pre>[90 values with dtype=float32]</pre></div></li><li class='xr-var-item'><div class='xr-var-name'><span>Zl</span></div><div class='xr-var-dims'>(k)</div><div class='xr-var-dtype'>float32</div><div class='xr-var-preview xr-preview'>...</div><input id='attrs-24768d47-c296-423f-8f88-4cc48a395864' class='xr-var-attrs-in' type='checkbox' ><label for='attrs-24768d47-c296-423f-8f88-4cc48a395864' title='Show/Hide attributes'><svg class='icon xr-icon-file-text2'><use xlink:href='#icon-file-text2'></use></svg></label><input id='data-ec7b979d-bbd7-41cd-b8f1-7d562a6a8861' class='xr-var-data-in' type='checkbox'><label for='data-ec7b979d-bbd7-41cd-b8f1-7d562a6a8861' title='Show/Hide data repr'><svg class='icon xr-icon-database'><use xlink:href='#icon-database'></use></svg></label><div class='xr-var-attrs'><dl class='xr-attrs'><dt><span>long_name :</span></dt><dd>grid cell depth at top</dd><dt><span>units :</span></dt><dd>m</dd></dl></div><div class='xr-var-data'><pre>[90 values with dtype=float32]</pre></div></li></ul></div></li><li class='xr-section-item'><input id='section-b6a3b0f5-0332-492d-8aca-46ff1a817833' class='xr-section-summary-in' type='checkbox'  checked><label for='section-b6a3b0f5-0332-492d-8aca-46ff1a817833' class='xr-section-summary' >Data variables: <span>(5)</span></label><div class='xr-section-inline-details'></div><div class='xr-section-details'><ul class='xr-var-list'><li class='xr-var-item'><div class='xr-var-name'><span>hFacC</span></div><div class='xr-var-dims'>(k, j, i)</div><div class='xr-var-dtype'>float64</div><div class='xr-var-preview xr-preview'>...</div><input id='attrs-46649e7a-c9ad-4874-ac53-76af1f1d6897' class='xr-var-attrs-in' type='checkbox' ><label for='attrs-46649e7a-c9ad-4874-ac53-76af1f1d6897' title='Show/Hide attributes'><svg class='icon xr-icon-file-text2'><use xlink:href='#icon-file-text2'></use></svg></label><input id='data-bfed0dca-d6df-4b3b-ae5d-6770e2b6c7f3' class='xr-var-data-in' type='checkbox'><label for='data-bfed0dca-d6df-4b3b-ae5d-6770e2b6c7f3' title='Show/Hide data repr'><svg class='icon xr-icon-database'><use xlink:href='#icon-database'></use></svg></label><div class='xr-var-attrs'><dl class='xr-attrs'><dt><span>description :</span></dt><dd>fraction of grid height that is wet</dd></dl></div><div class='xr-var-data'><pre>[139968000 values with dtype=float64]</pre></div></li><li class='xr-var-item'><div class='xr-var-name'><span>maskC</span></div><div class='xr-var-dims'>(k, j, i)</div><div class='xr-var-dtype'>int64</div><div class='xr-var-preview xr-preview'>...</div><input id='attrs-a2332185-2ad9-4395-ab93-1d7255314138' class='xr-var-attrs-in' type='checkbox' ><label for='attrs-a2332185-2ad9-4395-ab93-1d7255314138' title='Show/Hide attributes'><svg class='icon xr-icon-file-text2'><use xlink:href='#icon-file-text2'></use></svg></label><input id='data-54209847-2dbe-40ba-b7c9-2b7aea0a6c9d' class='xr-var-data-in' type='checkbox'><label for='data-54209847-2dbe-40ba-b7c9-2b7aea0a6c9d' title='Show/Hide data repr'><svg class='icon xr-icon-database'><use xlink:href='#icon-database'></use></svg></label><div class='xr-var-attrs'><dl class='xr-attrs'><dt><span>description :</span></dt><dd>wet/dry mask   land = 0, wet = 1</dd></dl></div><div class='xr-var-data'><pre>[139968000 values with dtype=int64]</pre></div></li><li class='xr-var-item'><div class='xr-var-name'><span>RAC</span></div><div class='xr-var-dims'>(j, i)</div><div class='xr-var-dtype'>float64</div><div class='xr-var-preview xr-preview'>...</div><input id='attrs-770bbef7-f550-45dd-be12-395ec1efb4f4' class='xr-var-attrs-in' type='checkbox' ><label for='attrs-770bbef7-f550-45dd-be12-395ec1efb4f4' title='Show/Hide attributes'><svg class='icon xr-icon-file-text2'><use xlink:href='#icon-file-text2'></use></svg></label><input id='data-5a50075d-d88c-4a8d-ab64-40720c154720' class='xr-var-data-in' type='checkbox'><label for='data-5a50075d-d88c-4a8d-ab64-40720c154720' title='Show/Hide data repr'><svg class='icon xr-icon-database'><use xlink:href='#icon-database'></use></svg></label><div class='xr-var-attrs'><dl class='xr-attrs'><dt><span>description :</span></dt><dd>grid cell horizontal surface area</dd><dt><span>units :</span></dt><dd>m2</dd></dl></div><div class='xr-var-data'><pre>[1555200 values with dtype=float64]</pre></div></li><li class='xr-var-item'><div class='xr-var-name'><span>dX</span></div><div class='xr-var-dims'>(j, i)</div><div class='xr-var-dtype'>float64</div><div class='xr-var-preview xr-preview'>...</div><input id='attrs-462d99ed-51f7-4c65-821a-335a2575d6c0' class='xr-var-attrs-in' type='checkbox' ><label for='attrs-462d99ed-51f7-4c65-821a-335a2575d6c0' title='Show/Hide attributes'><svg class='icon xr-icon-file-text2'><use xlink:href='#icon-file-text2'></use></svg></label><input id='data-03d8caaa-b817-4df1-99c6-86bcbb32500b' class='xr-var-data-in' type='checkbox'><label for='data-03d8caaa-b817-4df1-99c6-86bcbb32500b' title='Show/Hide data repr'><svg class='icon xr-icon-database'><use xlink:href='#icon-database'></use></svg></label><div class='xr-var-attrs'><dl class='xr-attrs'><dt><span>description :</span></dt><dd>approximate grid cell horizontal side length</dd><dt><span>units :</span></dt><dd>m</dd></dl></div><div class='xr-var-data'><pre>[1555200 values with dtype=float64]</pre></div></li><li class='xr-var-item'><div class='xr-var-name'><span>drF</span></div><div class='xr-var-dims'>(k)</div><div class='xr-var-dtype'>float64</div><div class='xr-var-preview xr-preview'>...</div><input id='attrs-4d1b9e5a-b055-43a3-b5ed-1500c5ce8969' class='xr-var-attrs-in' type='checkbox' ><label for='attrs-4d1b9e5a-b055-43a3-b5ed-1500c5ce8969' title='Show/Hide attributes'><svg class='icon xr-icon-file-text2'><use xlink:href='#icon-file-text2'></use></svg></label><input id='data-e6f7f634-f8e9-4104-910d-5595c3ac85c8' class='xr-var-data-in' type='checkbox'><label for='data-e6f7f634-f8e9-4104-910d-5595c3ac85c8' title='Show/Hide data repr'><svg class='icon xr-icon-database'><use xlink:href='#icon-database'></use></svg></label><div class='xr-var-attrs'><dl class='xr-attrs'><dt><span>description :</span></dt><dd>grid cell vertical thickness</dd><dt><span>units :</span></dt><dd>m</dd></dl></div><div class='xr-var-data'><pre>[90 values with dtype=float64]</pre></div></li></ul></div></li><li class='xr-section-item'><input id='section-0624ffa2-c695-412e-9069-cdeb857c018f' class='xr-section-summary-in' type='checkbox' disabled ><label for='section-0624ffa2-c695-412e-9069-cdeb857c018f' class='xr-section-summary'  title='Expand/collapse section'>Indexes: <span>(0)</span></label><div class='xr-section-inline-details'></div><div class='xr-section-details'><ul class='xr-var-list'></ul></div></li><li class='xr-section-item'><input id='section-cd9baa50-0965-4542-b8eb-e08895651440' class='xr-section-summary-in' type='checkbox'  checked><label for='section-cd9baa50-0965-4542-b8eb-e08895651440' class='xr-section-summary' >Attributes: <span>(4)</span></label><div class='xr-section-inline-details'></div><div class='xr-section-details'><dl class='xr-attrs'><dt><span>date_created :</span></dt><dd>2022-04-26T21:59:37</dd><dt><span>date_modified :</span></dt><dd>2022-04-26T21:59:37</dd><dt><span>date_metadata_modified :</span></dt><dd>2022-04-26T21:59:37</dd><dt><span>date_issued :</span></dt><dd>2022-04-26T21:59:37</dd></dl></div></li></ul></div></div>"
      ],
      "text/plain": [
       "<xarray.Dataset> Size: 2GB\n",
       "Dimensions:  (j: 1080, i: 1440, k: 90)\n",
       "Coordinates:\n",
       "    XC       (j, i) float32 6MB ...\n",
       "    YC       (j, i) float32 6MB ...\n",
       "    Z        (k) float32 360B ...\n",
       "    Zu       (k) float32 360B ...\n",
       "    Zl       (k) float32 360B ...\n",
       "Dimensions without coordinates: j, i, k\n",
       "Data variables:\n",
       "    hFacC    (k, j, i) float64 1GB ...\n",
       "    maskC    (k, j, i) int64 1GB ...\n",
       "    RAC      (j, i) float64 12MB ...\n",
       "    dX       (j, i) float64 12MB ...\n",
       "    drF      (k) float64 720B ...\n",
       "Attributes:\n",
       "    date_created:            2022-04-26T21:59:37\n",
       "    date_modified:           2022-04-26T21:59:37\n",
       "    date_metadata_modified:  2022-04-26T21:59:37\n",
       "    date_issued:             2022-04-26T21:59:37"
      ]
     },
     "execution_count": 7,
     "metadata": {},
     "output_type": "execute_result"
    }
   ],
   "source": [
    "geometry"
   ]
  },
  {
   "cell_type": "code",
   "execution_count": 17,
   "id": "df3392bf-037c-4ab7-a32d-84a815980a56",
   "metadata": {},
   "outputs": [
    {
     "data": {
      "text/plain": [
       "<matplotlib.collections.QuadMesh at 0x1d0c6624730>"
      ]
     },
     "execution_count": 17,
     "metadata": {},
     "output_type": "execute_result"
    },
    {
     "data": {
      "image/png": "[encoded data removed]",
      "text/plain": [
       "<Figure size 640x480 with 2 Axes>"
      ]
     },
     "metadata": {},
     "output_type": "display_data"
    }
   ],
   "source": [
    "geometry.sel(k=0).maskC.plot()"
   ]
  },
  {
   "cell_type": "code",
   "execution_count": 15,
   "id": "3a2eb1d5-68ff-4249-a723-3ffdda73f627",
   "metadata": {},
   "outputs": [
    {
     "data": {
      "text/plain": [
       "<matplotlib.collections.QuadMesh at 0x1d0c628c7f0>"
      ]
     },
     "execution_count": 15,
     "metadata": {},
     "output_type": "execute_result"
    },
    {
     "data": {
      "image/png": "[encoded data removed]",
      "text/plain": [
       "<Figure size 640x480 with 2 Axes>"
      ]
     },
     "metadata": {},
     "output_type": "display_data"
    }
   ],
   "source": [
    "geometry.sel(j=slice(0,200),i=slice(700,1100)).sel(k=0).maskC.plot()"
   ]
  },
  {
   "cell_type": "code",
   "execution_count": 16,
   "id": "206a9e41-6a75-4562-acd4-1407b371ad7b",
   "metadata": {},
   "outputs": [
    {
     "data": {
      "text/plain": [
       "<matplotlib.collections.QuadMesh at 0x1d0c6354160>"
      ]
     },
     "execution_count": 16,
     "metadata": {},
     "output_type": "execute_result"
    },
    {
     "data": {
      "image/png": "[encoded data removed]",
      "text/plain": [
       "<Figure size 640x480 with 2 Axes>"
      ]
     },
     "metadata": {},
     "output_type": "display_data"
    }
   ],
   "source": [
    "geometry.sel(j=slice(0,200),i=slice(700,1100)).sel(k=0).dX.plot()"
   ]
  },
  {
   "cell_type": "markdown",
   "id": "ad9ed2ee-0546-47bb-beab-f12fb03c389a",
   "metadata": {},
   "source": [
    "Need to make a coordinate that combines year, month, and day"
   ]
  },
  {
   "cell_type": "code",
   "execution_count": 90,
   "id": "4e92483b-5744-4e4d-a48a-afd2217d4e7d",
   "metadata": {},
   "outputs": [],
   "source": [
    "def create_time_dt64(ecco_ds):\n",
    "    time_list = []\n",
    "    for i in range(len(ecco_ds.time.values)):\n",
    "        year  = ecco_ds.years.isel(time=i).values\n",
    "        month = ecco_ds.months.isel(time=i).values\n",
    "        day   = ecco_ds.days.isel(time=i).values\n",
    "        \n",
    "        if month<10 and day<10:\n",
    "            time_tmp = str(year)+'-'+'0'+str(month)+'-'+'0'+str(day)\n",
    "        elif month<10 and day>=10: \n",
    "            time_tmp = str(year)+'-'+'0'+str(month)+'-'+str(day)\n",
    "        elif month>=10 and day<10: \n",
    "            time_tmp = str(year)+'-'+str(month)+'-'+'0'+str(day)\n",
    "        else:\n",
    "            time_tmp = str(year)+'-'+str(month)+'-'+str(day)\n",
    "        \n",
    "        time_list.append(time_tmp)\n",
    "    \n",
    "    time_dt64 = np.array(time_list, dtype='datetime64')\n",
    "        \n",
    "    return time_dt64"
   ]
  },
  {
   "cell_type": "code",
   "execution_count": 91,
   "id": "cebba57a-d68e-433c-8437-07b2cee83b40",
   "metadata": {},
   "outputs": [],
   "source": [
    "time_dt64 = create_time_dt64(theta_ds)"
   ]
  },
  {
   "cell_type": "markdown",
   "id": "b81d4bc9-24dd-4917-a082-6d6556393de9",
   "metadata": {},
   "source": [
    "Add new time coordinate to dataset"
   ]
  },
  {
   "cell_type": "code",
   "execution_count": 92,
   "id": "cd06073c-6056-4a04-b9b3-2753b5d30e42",
   "metadata": {},
   "outputs": [
    {
     "name": "stderr",
     "output_type": "stream",
     "text": [
      "/var/folders/rm/8lkzq38j0d10h7pjtnd728_w0000gn/T/ipykernel_82534/1578866282.py:1: UserWarning: Converting non-nanosecond precision datetime values to nanosecond precision. This behavior can eventually be relaxed in xarray, as it is an artifact from pandas which is now beginning to support non-nanosecond precision values. This warning is caused by passing non-nanosecond np.datetime64 or np.timedelta64 values to the DataArray or Variable constructor; it can be silenced by converting the values to nanosecond precision ahead of time.\n",
      "  theta_time_ds = theta_ds.assign_coords({\"time\":time_dt64})\n",
      "/var/folders/rm/8lkzq38j0d10h7pjtnd728_w0000gn/T/ipykernel_82534/1578866282.py:2: UserWarning: Converting non-nanosecond precision datetime values to nanosecond precision. This behavior can eventually be relaxed in xarray, as it is an artifact from pandas which is now beginning to support non-nanosecond precision values. This warning is caused by passing non-nanosecond np.datetime64 or np.timedelta64 values to the DataArray or Variable constructor; it can be silenced by converting the values to nanosecond precision ahead of time.\n",
      "  salt_time_ds  = salt_ds.assign_coords({\"time\":time_dt64})\n"
     ]
    }
   ],
   "source": [
    "theta_time_ds = theta_ds.assign_coords({\"time\":time_dt64})\n",
    "salt_time_ds  = salt_ds.assign_coords({\"time\":time_dt64})"
   ]
  },
  {
   "cell_type": "markdown",
   "id": "46488e46-be02-40da-91f2-1d9031339af8",
   "metadata": {},
   "source": [
    "Extract rows and export to individual netcdfs"
   ]
  },
  {
   "cell_type": "code",
   "execution_count": 15,
   "id": "873c34f5-5b1a-4913-be23-97f42a23793f",
   "metadata": {},
   "outputs": [],
   "source": [
    "import gsw"
   ]
  },
  {
   "cell_type": "code",
   "execution_count": 94,
   "id": "1f13929c-792e-4afd-bb0e-9f127af25b69",
   "metadata": {},
   "outputs": [],
   "source": [
    "# convert to TEOS-10 standards\n",
    "\n",
    "# PSU to g/kg\n",
    "pressure = gsw.conversions.p_from_z(-salt_time_ds.depth, salt_time_ds.isel(time=0).latitude.mean().values)\n",
    "salt_absolute_ds = gsw.conversions.SA_from_SP(salt_time_ds.SALT, pressure,\\\n",
    "                                              salt_time_ds.isel(time=0).longitude, salt_time_ds.isel(time=0).latitude)"
   ]
  },
  {
   "cell_type": "code",
   "execution_count": 96,
   "id": "26c46d57-5fb3-42c3-8046-bf9c4a823b39",
   "metadata": {},
   "outputs": [
    {
     "name": "stdout",
     "output_type": "stream",
     "text": [
      "32.91999\n",
      "33.076021773051906\n"
     ]
    }
   ],
   "source": [
    "print(salt_time_ds.SALT.isel(time=0,depth=0,rows=150,cols=50).values)\n",
    "print(salt_absolute_ds.isel(time=0,depth=0,rows=150,cols=50).values)"
   ]
  },
  {
   "cell_type": "code",
   "execution_count": 97,
   "id": "593ad9fc-3a99-4d46-a93d-68eac70578d4",
   "metadata": {},
   "outputs": [],
   "source": [
    "# replace SALT in dataset and update metadata\n",
    "salt_time_ds.SALT.values = salt_absolute_ds\n",
    "salt_time_ds.SALT.attrs['description'] = 'Absolute Salinity'"
   ]
  },
  {
   "cell_type": "code",
   "execution_count": 98,
   "id": "45efdba1-6d3f-4d33-b66e-ea6c745cfa5e",
   "metadata": {},
   "outputs": [
    {
     "name": "stdout",
     "output_type": "stream",
     "text": [
      "33.076021773051906\n",
      "33.076021773051906\n"
     ]
    }
   ],
   "source": [
    "print(salt_time_ds.SALT.isel(time=0,depth=0,rows=150,cols=50).values)\n",
    "print(salt_absolute_ds.isel(time=0,depth=0,rows=150,cols=50).values)"
   ]
  },
  {
   "cell_type": "code",
   "execution_count": 100,
   "id": "98bd3e4e-0ff3-4a49-8767-dab3b1493e54",
   "metadata": {},
   "outputs": [],
   "source": [
    "# in situ temp to conservative temp\n",
    "theta_conservative_ds = gsw.conversions.CT_from_pt(salt_absolute_ds, theta_time_ds.THETA)"
   ]
  },
  {
   "cell_type": "code",
   "execution_count": 101,
   "id": "f158d4f7-9396-4ca0-b2a6-93af226a3cc1",
   "metadata": {},
   "outputs": [
    {
     "name": "stdout",
     "output_type": "stream",
     "text": [
      "-1.781645\n",
      "-1.7762309055341596\n"
     ]
    }
   ],
   "source": [
    "print(theta_time_ds.THETA.isel(time=0,depth=0,rows=150,cols=50).values)\n",
    "print(theta_conservative_ds.isel(time=0,depth=0,rows=150,cols=50).values)"
   ]
  },
  {
   "cell_type": "code",
   "execution_count": 102,
   "id": "b5c2bb6f-e7b1-4318-abe3-6eeec72b2088",
   "metadata": {},
   "outputs": [],
   "source": [
    "# replace THETA in dataset and update metadata\n",
    "theta_time_ds.THETA.values = theta_conservative_ds\n",
    "theta_time_ds.THETA.attrs['description'] = 'Conservative Temperature'"
   ]
  },
  {
   "cell_type": "code",
   "execution_count": 103,
   "id": "3f89675c-9d48-41f5-bf59-26a32c780358",
   "metadata": {},
   "outputs": [
    {
     "name": "stdout",
     "output_type": "stream",
     "text": [
      "-1.7762309055341596\n",
      "-1.7762309055341596\n"
     ]
    }
   ],
   "source": [
    "print(theta_time_ds.THETA.isel(time=0,depth=0,rows=150,cols=50).values)\n",
    "print(theta_conservative_ds.isel(time=0,depth=0,rows=150,cols=50).values)"
   ]
  },
  {
   "cell_type": "markdown",
   "id": "daccbd9f-7883-4db9-8b9a-6df49f4a5baf",
   "metadata": {},
   "source": [
    "Save datasets"
   ]
  },
  {
   "cell_type": "code",
   "execution_count": 105,
   "id": "0493f6e2-5a26-4881-9cd7-7de8a90b92f3",
   "metadata": {},
   "outputs": [],
   "source": [
    "# theta_dir = 'F:/PhD_chap3/data/ECCO_melville/rows_netcdfs/THETA/'\n",
    "theta_dir = '/Users/mariezahn/data/ECCO_WGreenland/rows_netcdfs_teos10/THETA/'\n",
    "\n",
    "# salt_dir = 'F:/PhD_chap3/data/ECCO_melville/rows_netcdfs/SALT/'\n",
    "salt_dir = '/Users/mariezahn/data/ECCO_WGreenland/rows_netcdfs_teos10/SALT/'"
   ]
  },
  {
   "cell_type": "code",
   "execution_count": 107,
   "id": "6d1a9b71-811b-4ccf-800a-0c58e569b6cb",
   "metadata": {},
   "outputs": [
    {
     "name": "stdout",
     "output_type": "stream",
     "text": [
      "row 0 complete\n",
      "\n",
      "row 25 complete\n",
      "\n",
      "row 50 complete\n",
      "\n",
      "row 75 complete\n",
      "\n",
      "row 100 complete\n",
      "\n",
      "row 125 complete\n",
      "\n",
      "row 150 complete\n",
      "\n"
     ]
    }
   ],
   "source": [
    "theta_time_ds.isel(rows=0).load().to_netcdf(theta_dir + 'W_Greenland_THETA_2015to2020_row000.nc')\n",
    "print(\"row 0 complete\\n\")\n",
    "theta_time_ds.isel(rows=25).load().to_netcdf(theta_dir + 'W_Greenland_THETA_2015to2020_row025.nc')\n",
    "print(\"row 25 complete\\n\")\n",
    "theta_time_ds.isel(rows=50).load().to_netcdf(theta_dir + 'W_Greenland_THETA_2015to2020_row050.nc')\n",
    "print(\"row 50 complete\\n\")\n",
    "theta_time_ds.isel(rows=75).load().to_netcdf(theta_dir + 'W_Greenland_THETA_2015to2020_row075.nc')\n",
    "print(\"row 75 complete\\n\")\n",
    "theta_time_ds.isel(rows=100).load().to_netcdf(theta_dir + 'W_Greenland_THETA_2015to2020_row100.nc')\n",
    "print(\"row 100 complete\\n\")\n",
    "theta_time_ds.isel(rows=125).load().to_netcdf(theta_dir + 'W_Greenland_THETA_2015to2020_row125.nc')\n",
    "print(\"row 125 complete\\n\")\n",
    "theta_time_ds.isel(rows=150).load().to_netcdf(theta_dir + 'W_Greenland_THETA_2015to2020_row150.nc')\n",
    "print(\"row 150 complete\\n\")"
   ]
  },
  {
   "cell_type": "code",
   "execution_count": 108,
   "id": "d20e3e9a-7935-4385-a0e1-196bc56fb79e",
   "metadata": {},
   "outputs": [
    {
     "name": "stdout",
     "output_type": "stream",
     "text": [
      "row 0 complete\n",
      "\n",
      "row 25 complete\n",
      "\n",
      "row 50 complete\n",
      "\n",
      "row 75 complete\n",
      "\n",
      "row 100 complete\n",
      "\n",
      "row 125 complete\n",
      "\n",
      "row 150 complete\n",
      "\n"
     ]
    }
   ],
   "source": [
    "salt_time_ds.isel(rows=0).load().to_netcdf(salt_dir + 'W_Greenland_SALT_2015to2020_row000.nc')\n",
    "print(\"row 0 complete\\n\")\n",
    "salt_time_ds.isel(rows=25).load().to_netcdf(salt_dir + 'W_Greenland_SALT_2015to2020_row025.nc')\n",
    "print(\"row 25 complete\\n\")\n",
    "salt_time_ds.isel(rows=50).load().to_netcdf(salt_dir + 'W_Greenland_SALT_2015to2020_row050.nc')\n",
    "print(\"row 50 complete\\n\")\n",
    "salt_time_ds.isel(rows=75).load().to_netcdf(salt_dir + 'W_Greenland_SALT_2015to2020_row075.nc')\n",
    "print(\"row 75 complete\\n\")\n",
    "salt_time_ds.isel(rows=100).load().to_netcdf(salt_dir + 'W_Greenland_SALT_2015to2020_row100.nc')\n",
    "print(\"row 100 complete\\n\")\n",
    "salt_time_ds.isel(rows=125).load().to_netcdf(salt_dir + 'W_Greenland_SALT_2015to2020_row125.nc')\n",
    "print(\"row 125 complete\\n\")\n",
    "salt_time_ds.isel(rows=150).load().to_netcdf(salt_dir + 'W_Greenland_SALT_2015to2020_row150.nc')\n",
    "print(\"row 150 complete\\n\")"
   ]
  },
  {
   "cell_type": "markdown",
   "id": "3a20a2ef-0f2f-44d6-b5bc-3fa5c9f86798",
   "metadata": {},
   "source": [
    "Extract data from a point close to the APEX float profiles"
   ]
  },
  {
   "cell_type": "code",
   "execution_count": 9,
   "id": "1e1fac56-28d2-401e-b320-f5b95d630ba6",
   "metadata": {},
   "outputs": [],
   "source": [
    "# see where the float was predominantly located\n",
    "apex_dir = Path('F:/PhD_chap3/data/OMG_Float_data/OMG_APEX_Float_Data/APEX')\n",
    "F9444_data_ds = xr.open_dataset(apex_dir / 'F9444/APEX_F9444_profiles_binned.nc')"
   ]
  },
  {
   "cell_type": "code",
   "execution_count": 13,
   "id": "0c1a64cc-e90b-4ea0-82a9-c317faf47a9e",
   "metadata": {},
   "outputs": [
    {
     "data": {
      "text/plain": [
       "array(75.57451882)"
      ]
     },
     "execution_count": 13,
     "metadata": {},
     "output_type": "execute_result"
    }
   ],
   "source": [
    "F9444_data_ds.lat.mean().values"
   ]
  },
  {
   "cell_type": "code",
   "execution_count": 14,
   "id": "35862733-ea30-4eed-bdb0-589da2999516",
   "metadata": {},
   "outputs": [
    {
     "data": {
      "text/plain": [
       "array(-62.35893467)"
      ]
     },
     "execution_count": 14,
     "metadata": {},
     "output_type": "execute_result"
    }
   ],
   "source": [
    "F9444_data_ds.lon.mean().values"
   ]
  },
  {
   "cell_type": "code",
   "execution_count": 18,
   "id": "bf47c450-44a1-4f19-ac40-61a645384469",
   "metadata": {},
   "outputs": [],
   "source": [
    "tmp = theta_time_ds.isel(time=0,depth=0).load()"
   ]
  },
  {
   "cell_type": "code",
   "execution_count": null,
   "id": "f589f993-e528-4eae-876b-c64beaca685c",
   "metadata": {},
   "outputs": [],
   "source": [
    "# the kong oscar mooring was located at 75.8 N -59.8 E\n",
    "tmp.isel(cols=110,rows=172)"
   ]
  },
  {
   "cell_type": "code",
   "execution_count": 39,
   "id": "a8146f5f-abfc-4f39-8904-7fee0d1001e7",
   "metadata": {},
   "outputs": [],
   "source": [
    "# APEX float\n",
    "theta_time_ds.isel(cols=110,rows=172).load().to_netcdf(theta_dir + 'W_Greenland_THETA_2015to2020_APEX_location.nc')\n",
    "salt_time_ds.isel(cols=110,rows=172).load().to_netcdf(salt_dir + 'W_Greenland_SALT_2015to2020_APEX_location.nc')"
   ]
  },
  {
   "cell_type": "code",
   "execution_count": 16,
   "id": "c1c07d64-5554-4646-90db-239734993386",
   "metadata": {},
   "outputs": [],
   "source": [
    "# loop to export separate netcdfs for each selected row (every 25 rows from 0 to 150)\n",
    "rows_indices = np.arange(0,175,25)\n",
    "\n",
    "for i in range(len(rows_indices)):\n",
    "    filename = 'W_Greenland_THETA_2015to2018_row' + str(rows_indices[i]) + '.nc'\n",
    "    theta_select = theta_time_ds.isel(rows=i)\n",
    "    theta_select.load().to_netcdf('H:/PhD_chap3/data/ECCO_melville/rows_netcdfs/THETA/' + filename)\n",
    "    theta_select.close()"
   ]
  },
  {
   "cell_type": "code",
   "execution_count": 17,
   "id": "0468b391-fde1-4180-a7ad-7dfc2e984c95",
   "metadata": {},
   "outputs": [],
   "source": [
    "rows_indices = np.arange(0,175,25)\n",
    "for i in range(len(rows_indices)):\n",
    "    filename = 'W_Greenland_SALT_2015to2018_row' + str(rows_indices[i]) + '.nc'\n",
    "    salt_select = salt_time_ds.isel(rows=i)\n",
    "    salt_select.load().to_netcdf('H:/PhD_chap3/data/ECCO_melville/rows_netcdfs/SALT/' + filename)\n",
    "    salt_select.close()"
   ]
  },
  {
   "cell_type": "markdown",
   "id": "c56c8484-8efb-428e-b7a6-6c98efb6ea9f",
   "metadata": {},
   "source": [
    "Look at a dataset"
   ]
  },
  {
   "cell_type": "code",
   "execution_count": 15,
   "id": "d223f884-7e46-497a-a052-a1856e07bfda",
   "metadata": {},
   "outputs": [],
   "source": [
    "tmp = xr.open_dataset(\"H:/PhD_chap3/data/ECCO_melville/rows_netcdfs/THETA/W_Greenland_THETA_2015to2018_row150.nc\")"
   ]
  },
  {
   "cell_type": "code",
   "execution_count": 17,
   "id": "65f4a4d3-4c73-4c0e-9047-cbf07f0cc923",
   "metadata": {},
   "outputs": [
    {
     "data": {
      "text/plain": [
       "<matplotlib.collections.QuadMesh at 0x2cf177210a0>"
      ]
     },
     "execution_count": 17,
     "metadata": {},
     "output_type": "execute_result"
    },
    {
     "data": {
      "image/png": "[encoded data removed]",
      "text/plain": [
       "<Figure size 640x480 with 2 Axes>"
      ]
     },
     "metadata": {},
     "output_type": "display_data"
    }
   ],
   "source": [
    "tmp.isel(time=0).THETA.plot()"
   ]
  }
 ],
 "metadata": {
  "kernelspec": {
   "display_name": "Python 3 (ipykernel)",
   "language": "python",
   "name": "python3"
  },
  "language_info": {
   "codemirror_mode": {
    "name": "ipython",
    "version": 3
   },
   "file_extension": ".py",
   "mimetype": "text/x-python",
   "name": "python",
   "nbconvert_exporter": "python",
   "pygments_lexer": "ipython3",
   "version": "3.9.19"
  }
 },
 "nbformat": 4,
 "nbformat_minor": 5
}
