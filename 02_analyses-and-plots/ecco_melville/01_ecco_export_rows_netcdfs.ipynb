{
 "cells": [
  {
   "cell_type": "markdown",
   "id": "3aa8a5b1-f089-49d2-8e9c-7b28b98b396f",
   "metadata": {
    "tags": []
   },
   "source": [
    "## ECCO - Melville Bay"
   ]
  },
  {
   "cell_type": "markdown",
   "id": "22b1df9b-eb62-4ea3-b7cb-9ccf7143bda4",
   "metadata": {},
   "source": [
    "### Export netcdfs for sequential rows"
   ]
  },
  {
   "cell_type": "code",
   "execution_count": 20,
   "id": "0aedb001-7a03-48f4-a362-df899282ba8d",
   "metadata": {
    "tags": []
   },
   "outputs": [],
   "source": [
    "import numpy as np\n",
    "import pandas as pd\n",
    "import xarray as xr\n",
    "from pathlib import Path\n",
    "import glob"
   ]
  },
  {
   "cell_type": "markdown",
   "id": "f8110b18-01fa-4d8b-b523-761c70427feb",
   "metadata": {},
   "source": [
    "#### Create netCDFs for theta and salt"
   ]
  },
  {
   "cell_type": "code",
   "execution_count": 21,
   "id": "629ace63-51ff-45f5-911e-a436d858dd06",
   "metadata": {},
   "outputs": [],
   "source": [
    "ecco_melville_theta_dir = Path('H:/PhD_chap3/data/ECCO_melville/W_Greenland/THETA/')\n",
    "ecco_melville_salt_dir = Path('H:/PhD_chap3/data/ECCO_melville/W_Greenland/SALT/')"
   ]
  },
  {
   "cell_type": "code",
   "execution_count": 22,
   "id": "cab5fcb8-e7ce-4462-90ec-6bcf659521c7",
   "metadata": {},
   "outputs": [],
   "source": [
    "theta_files = list(ecco_melville_theta_dir.glob('*nc'))\n",
    "salt_files = list(ecco_melville_salt_dir.glob('*nc'))"
   ]
  },
  {
   "cell_type": "code",
   "execution_count": 7,
   "id": "8d2a5d75-8859-4269-b236-086d8cee0904",
   "metadata": {},
   "outputs": [],
   "source": [
    "## theta\n",
    "theta_ds = xr.open_mfdataset(theta_files,combine='nested',concat_dim='time',parallel=True,\\\n",
    "                            data_vars='all', coords='all')"
   ]
  },
  {
   "cell_type": "code",
   "execution_count": 8,
   "id": "801a8279-ac5f-418e-9730-192191c9c053",
   "metadata": {},
   "outputs": [],
   "source": [
    "## salt\n",
    "salt_ds = xr.open_mfdataset(salt_files,combine='nested',concat_dim='time',parallel=True,\\\n",
    "                            data_vars='all', coords='all')"
   ]
  },
  {
   "cell_type": "markdown",
   "id": "ad9ed2ee-0546-47bb-beab-f12fb03c389a",
   "metadata": {},
   "source": [
    "Need to make a coordinate that combines year, month, and day"
   ]
  },
  {
   "cell_type": "code",
   "execution_count": 9,
   "id": "4e92483b-5744-4e4d-a48a-afd2217d4e7d",
   "metadata": {},
   "outputs": [],
   "source": [
    "def create_time_dt64(ecco_ds):\n",
    "    time_list = []\n",
    "    for i in range(len(ecco_ds.time.values)):\n",
    "        year  = ecco_ds.years.isel(time=i).values\n",
    "        month = ecco_ds.months.isel(time=i).values\n",
    "        day   = ecco_ds.days.isel(time=i).values\n",
    "        \n",
    "        if month<10 and day<10:\n",
    "            time_tmp = str(year)+'-'+'0'+str(month)+'-'+'0'+str(day)\n",
    "        elif month<10 and day>=10: \n",
    "            time_tmp = str(year)+'-'+'0'+str(month)+'-'+str(day)\n",
    "        elif month>=10 and day<10: \n",
    "            time_tmp = str(year)+'-'+str(month)+'-'+'0'+str(day)\n",
    "        else:\n",
    "            time_tmp = str(year)+'-'+str(month)+'-'+str(day)\n",
    "        \n",
    "        time_list.append(time_tmp)\n",
    "    \n",
    "    time_dt64 = np.array(time_list, dtype='datetime64')\n",
    "        \n",
    "    return time_dt64"
   ]
  },
  {
   "cell_type": "code",
   "execution_count": 10,
   "id": "cebba57a-d68e-433c-8437-07b2cee83b40",
   "metadata": {},
   "outputs": [],
   "source": [
    "time_dt64 = create_time_dt64(theta_ds)"
   ]
  },
  {
   "cell_type": "markdown",
   "id": "b81d4bc9-24dd-4917-a082-6d6556393de9",
   "metadata": {},
   "source": [
    "Add new time coordinate to dataset"
   ]
  },
  {
   "cell_type": "code",
   "execution_count": 11,
   "id": "cd06073c-6056-4a04-b9b3-2753b5d30e42",
   "metadata": {},
   "outputs": [],
   "source": [
    "theta_time_ds = theta_ds.assign_coords({\"time\":time_dt64})\n",
    "salt_time_ds  = salt_ds.assign_coords({\"time\":time_dt64})"
   ]
  },
  {
   "cell_type": "markdown",
   "id": "46488e46-be02-40da-91f2-1d9031339af8",
   "metadata": {},
   "source": [
    "Extract rows and export to individual netcdfs"
   ]
  },
  {
   "cell_type": "code",
   "execution_count": 12,
   "id": "0493f6e2-5a26-4881-9cd7-7de8a90b92f3",
   "metadata": {},
   "outputs": [],
   "source": [
    "theta_dir = 'H:/PhD_chap3/data/ECCO_melville/rows_netcdfs/THETA/'"
   ]
  },
  {
   "cell_type": "code",
   "execution_count": 13,
   "id": "ab21db5f-c4e9-41b0-90ac-812436ed027d",
   "metadata": {},
   "outputs": [],
   "source": [
    "salt_dir = 'H:/PhD_chap3/data/ECCO_melville/rows_netcdfs/SALT/'"
   ]
  },
  {
   "cell_type": "code",
   "execution_count": 14,
   "id": "fa65f658-debf-487b-85fc-f069447a5806",
   "metadata": {},
   "outputs": [],
   "source": [
    "# test one dataset to make sure it works\n",
    "theta_time_ds.isel(rows=150).load().to_netcdf(theta_dir + 'W_Greenland_THETA_2015to2018_row150.nc')"
   ]
  },
  {
   "cell_type": "code",
   "execution_count": 19,
   "id": "6d1a9b71-811b-4ccf-800a-0c58e569b6cb",
   "metadata": {},
   "outputs": [],
   "source": [
    "theta_time_ds.isel(rows=0).load().to_netcdf(theta_dir + 'W_Greenland_THETA_2015to2018_row000.nc')\n",
    "theta_time_ds.isel(rows=25).load().to_netcdf(theta_dir + 'W_Greenland_THETA_2015to2018_row025.nc')\n",
    "theta_time_ds.isel(rows=50).load().to_netcdf(theta_dir + 'W_Greenland_THETA_2015to2018_row050.nc')\n",
    "theta_time_ds.isel(rows=75).load().to_netcdf(theta_dir + 'W_Greenland_THETA_2015to2018_row075.nc')\n",
    "theta_time_ds.isel(rows=100).load().to_netcdf(theta_dir + 'W_Greenland_THETA_2015to2018_row100.nc')\n",
    "theta_time_ds.isel(rows=125).load().to_netcdf(theta_dir + 'W_Greenland_THETA_2015to2018_row125.nc')\n",
    "theta_time_ds.isel(rows=150).load().to_netcdf(theta_dir + 'W_Greenland_THETA_2015to2018_row150.nc')"
   ]
  },
  {
   "cell_type": "code",
   "execution_count": 23,
   "id": "d20e3e9a-7935-4385-a0e1-196bc56fb79e",
   "metadata": {},
   "outputs": [],
   "source": [
    "salt_time_ds.isel(rows=0).load().to_netcdf(salt_dir + 'W_Greenland_SALT_2015to2018_row000.nc')\n",
    "salt_time_ds.isel(rows=25).load().to_netcdf(salt_dir + 'W_Greenland_SALT_2015to2018_row025.nc')\n",
    "salt_time_ds.isel(rows=50).load().to_netcdf(salt_dir + 'W_Greenland_SALT_2015to2018_row050.nc')\n",
    "salt_time_ds.isel(rows=75).load().to_netcdf(salt_dir + 'W_Greenland_SALT_2015to2018_row075.nc')\n",
    "salt_time_ds.isel(rows=100).load().to_netcdf(salt_dir + 'W_Greenland_SALT_2015to2018_row100.nc')\n",
    "salt_time_ds.isel(rows=125).load().to_netcdf(salt_dir + 'W_Greenland_SALT_2015to2018_row125.nc')\n",
    "salt_time_ds.isel(rows=150).load().to_netcdf(salt_dir + 'W_Greenland_SALT_2015to2018_row150.nc')"
   ]
  },
  {
   "cell_type": "code",
   "execution_count": 16,
   "id": "c1c07d64-5554-4646-90db-239734993386",
   "metadata": {},
   "outputs": [],
   "source": [
    "# loop to export separate netcdfs for each selected row (every 25 rows from 0 to 150)\n",
    "rows_indices = np.arange(0,175,25)\n",
    "\n",
    "for i in range(len(rows_indices)):\n",
    "    filename = 'W_Greenland_THETA_2015to2018_row' + str(rows_indices[i]) + '.nc'\n",
    "    theta_select = theta_time_ds.isel(rows=i)\n",
    "    theta_select.load().to_netcdf('H:/PhD_chap3/data/ECCO_melville/rows_netcdfs/THETA/' + filename)\n",
    "    theta_select.close()"
   ]
  },
  {
   "cell_type": "code",
   "execution_count": 17,
   "id": "0468b391-fde1-4180-a7ad-7dfc2e984c95",
   "metadata": {},
   "outputs": [],
   "source": [
    "rows_indices = np.arange(0,175,25)\n",
    "for i in range(len(rows_indices)):\n",
    "    filename = 'W_Greenland_SALT_2015to2018_row' + str(rows_indices[i]) + '.nc'\n",
    "    salt_select = salt_time_ds.isel(rows=i)\n",
    "    salt_select.load().to_netcdf('H:/PhD_chap3/data/ECCO_melville/rows_netcdfs/SALT/' + filename)\n",
    "    salt_select.close()"
   ]
  },
  {
   "cell_type": "markdown",
   "id": "c56c8484-8efb-428e-b7a6-6c98efb6ea9f",
   "metadata": {},
   "source": [
    "Look at a dataset"
   ]
  },
  {
   "cell_type": "code",
   "execution_count": 15,
   "id": "d223f884-7e46-497a-a052-a1856e07bfda",
   "metadata": {},
   "outputs": [],
   "source": [
    "tmp = xr.open_dataset(\"H:/PhD_chap3/data/ECCO_melville/rows_netcdfs/THETA/W_Greenland_THETA_2015to2018_row150.nc\")"
   ]
  },
  {
   "cell_type": "code",
   "execution_count": 17,
   "id": "65f4a4d3-4c73-4c0e-9047-cbf07f0cc923",
   "metadata": {},
   "outputs": [
    {
     "data": {
      "text/plain": [
       "<matplotlib.collections.QuadMesh at 0x2cf177210a0>"
      ]
     },
     "execution_count": 17,
     "metadata": {},
     "output_type": "execute_result"
    },
    {
     "data": {
      "image/png": "[encoded data removed]",
      "text/plain": [
       "<Figure size 640x480 with 2 Axes>"
      ]
     },
     "metadata": {},
     "output_type": "display_data"
    }
   ],
   "source": [
    "tmp.isel(time=0).THETA.plot()"
   ]
  },
  {
   "cell_type": "code",
   "execution_count": null,
   "id": "98bd3e4e-0ff3-4a49-8767-dab3b1493e54",
   "metadata": {},
   "outputs": [],
   "source": []
  }
 ],
 "metadata": {
  "kernelspec": {
   "display_name": "Python 3 (ipykernel)",
   "language": "python",
   "name": "python3"
  },
  "language_info": {
   "codemirror_mode": {
    "name": "ipython",
    "version": 3
   },
   "file_extension": ".py",
   "mimetype": "text/x-python",
   "name": "python",
   "nbconvert_exporter": "python",
   "pygments_lexer": "ipython3",
   "version": "3.9.13"
  }
 },
 "nbformat": 4,
 "nbformat_minor": 5
}
