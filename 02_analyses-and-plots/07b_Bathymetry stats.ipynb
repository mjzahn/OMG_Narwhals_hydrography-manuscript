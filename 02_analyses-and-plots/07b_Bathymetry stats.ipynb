{
 "cells": [
  {
   "cell_type": "markdown",
   "id": "c76d83bc-de90-4d3c-b36c-1a7d875b9e4c",
   "metadata": {},
   "source": [
    "# Bathymetry summary stats"
   ]
  },
  {
   "cell_type": "code",
   "execution_count": 19,
   "id": "4be2fd62-ede8-4923-b54a-b6c8801ec65d",
   "metadata": {},
   "outputs": [],
   "source": [
    "import numpy as np\n",
    "import matplotlib.pyplot as plt\n",
    "import pandas as pd\n",
    "from pathlib import Path\n",
    "import xarray as xr\n",
    "import scipy.stats"
   ]
  },
  {
   "cell_type": "code",
   "execution_count": 2,
   "id": "8d277cc8-c457-432c-9cfe-db80ef84302b",
   "metadata": {},
   "outputs": [],
   "source": [
    "ridgeline_dir = 'C:/Users/marie/Documents/PhD/Chapter_3/data/bathymetry/Ridgelines_netCDFs/'"
   ]
  },
  {
   "cell_type": "code",
   "execution_count": 11,
   "id": "95804ad1-3273-46a4-891f-026fb3d2cdd6",
   "metadata": {},
   "outputs": [],
   "source": [
    "rink_ridgeline_plus_ds = xr.open_dataset(ridgeline_dir +  'rink_ridgeline_plus.nc').ridgeline_plus.values\n",
    "rink_ridgeline_minus_ds = xr.open_dataset(ridgeline_dir + 'rink_ridgeline_minus.nc').ridgeline_minus.values\n",
    "\n",
    "kong_ridgeline_plus_ds = xr.open_dataset(ridgeline_dir +  'kongoscar_ridgeline_plus.nc').ridgeline_plus.values\n",
    "kong_ridgeline_minus_ds = xr.open_dataset(ridgeline_dir + 'kongoscar_ridgeline_minus.nc').ridgeline_minus.values\n",
    "\n",
    "sver_ridgeline_plus_ds = xr.open_dataset(ridgeline_dir +  'sverdrup_ridgeline_plus.nc').ridgeline_plus.values\n",
    "sver_ridgeline_minus_ds = xr.open_dataset(ridgeline_dir + 'sverdrup_ridgeline_minus.nc').ridgeline_minus.values"
   ]
  },
  {
   "cell_type": "code",
   "execution_count": 15,
   "id": "2f564520-8ad1-4d19-bf1c-79c52d723eaa",
   "metadata": {},
   "outputs": [],
   "source": [
    "# join all the arrays\n",
    "ridgeline_all = np.concatenate((rink_ridgeline_plus_ds,rink_ridgeline_minus_ds,\\\n",
    "                   kong_ridgeline_plus_ds,kong_ridgeline_minus_ds,\\\n",
    "                   sver_ridgeline_plus_ds,sver_ridgeline_minus_ds))"
   ]
  },
  {
   "cell_type": "code",
   "execution_count": 21,
   "id": "fa3009a1-2413-4245-ade3-e4639cbcc6ed",
   "metadata": {},
   "outputs": [],
   "source": [
    "# calculate summary stats\n",
    "def mean_confidence_interval(data, confidence=0.95):\n",
    "    # a = 1.0 * np.array(data)\n",
    "    n = len(data)\n",
    "    m, se = np.mean(data), scipy.stats.sem(data)\n",
    "    h = se * scipy.stats.t.ppf((1 + confidence) / 2., n-1)\n",
    "    return m, m-h, m+h"
   ]
  },
  {
   "cell_type": "code",
   "execution_count": 24,
   "id": "bd759198-e6ff-4e5e-9b52-4456b8c0130e",
   "metadata": {},
   "outputs": [
    {
     "data": {
      "text/plain": [
       "-359.30698"
      ]
     },
     "execution_count": 24,
     "metadata": {},
     "output_type": "execute_result"
    }
   ],
   "source": [
    "ridgeline_all.mean()"
   ]
  },
  {
   "cell_type": "code",
   "execution_count": 14,
   "id": "e55dfb94-0360-4827-b83f-16933ea20542",
   "metadata": {},
   "outputs": [],
   "source": [
    "transect_csv_dir = Path('C:/Users/marie/Documents/PhD/Chapter_3/data/bathymetry/QGIS_files/kongoscar_thalweg_w-error.csv')"
   ]
  },
  {
   "cell_type": "code",
   "execution_count": 40,
   "id": "0e3f338b-b27c-4ed0-b802-58cc612b1d58",
   "metadata": {},
   "outputs": [],
   "source": [
    "rink_transect = np.array(pd.read_csv('C:/Users/marie/Documents/PhD/Chapter_3/data/bathymetry/QGIS_files/rink_thalweg.csv').Bed_meters)\n",
    "kong_transect = np.array(pd.read_csv('C:/Users/marie/Documents/PhD/Chapter_3/data/bathymetry/QGIS_files/kongoscar_thalweg.csv').Bed_meters)\n",
    "sver_transect = np.array(pd.read_csv('C:/Users/marie/Documents/PhD/Chapter_3/data/bathymetry/QGIS_files/sverdrup_thalweg.csv').Bed_meters)"
   ]
  },
  {
   "cell_type": "code",
   "execution_count": 42,
   "id": "4b803ddf-aef7-477b-9166-d5f3a7999223",
   "metadata": {},
   "outputs": [],
   "source": [
    "transect_all = np.concatenate((rink_transect,kong_transect,sver_transect))"
   ]
  },
  {
   "cell_type": "code",
   "execution_count": 43,
   "id": "f4427d49-225b-41a5-a0b7-109fe8f403b0",
   "metadata": {},
   "outputs": [
    {
     "data": {
      "text/plain": [
       "-664.575511856493"
      ]
     },
     "execution_count": 43,
     "metadata": {},
     "output_type": "execute_result"
    }
   ],
   "source": [
    "transect_all.mean()"
   ]
  },
  {
   "cell_type": "code",
   "execution_count": null,
   "id": "9d9a2813-f78c-4d24-ba41-43ea8ab2e8b2",
   "metadata": {},
   "outputs": [],
   "source": []
  }
 ],
 "metadata": {
  "kernelspec": {
   "display_name": "Python 3 (ipykernel)",
   "language": "python",
   "name": "python3"
  },
  "language_info": {
   "codemirror_mode": {
    "name": "ipython",
    "version": 3
   },
   "file_extension": ".py",
   "mimetype": "text/x-python",
   "name": "python",
   "nbconvert_exporter": "python",
   "pygments_lexer": "ipython3",
   "version": "3.9.13"
  }
 },
 "nbformat": 4,
 "nbformat_minor": 5
}
