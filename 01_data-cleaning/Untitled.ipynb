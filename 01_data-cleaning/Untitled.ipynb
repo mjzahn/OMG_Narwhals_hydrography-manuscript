{
 "cells": [
  {
   "cell_type": "code",
   "execution_count": 1,
   "id": "d5ab5197-886e-41e7-b1f7-f35eccd9db3a",
   "metadata": {},
   "outputs": [],
   "source": [
    "from netCDF4 import Dataset"
   ]
  },
  {
   "cell_type": "code",
   "execution_count": 3,
   "id": "b3d8b04a-f947-4f35-a145-889472ace6e7",
   "metadata": {},
   "outputs": [],
   "source": [
    "directory = 'C:/Users/marie/Documents/PhD/Chapter_3/data/OMG_Narwhals_mooring_data/OMG_Narwhals_mooring_L1/2019/SBE37/'"
   ]
  },
  {
   "cell_type": "code",
   "execution_count": 4,
   "id": "36653476-6778-4682-bbb6-78d173cf65b1",
   "metadata": {},
   "outputs": [],
   "source": [
    "data = Dataset(directory + 'OMG_Narwhals_Mooring_CTD_L1_2019080303716787.nc', mode='r')"
   ]
  },
  {
   "cell_type": "code",
   "execution_count": 6,
   "id": "07df240b-c4f6-411c-8ab7-73e97c0ba121",
   "metadata": {},
   "outputs": [],
   "source": [
    "temp = data.variables['temperature'][:]"
   ]
  },
  {
   "cell_type": "code",
   "execution_count": 12,
   "id": "6d423081-4fe5-48eb-8379-3ace97da2f0d",
   "metadata": {},
   "outputs": [
    {
     "name": "stdout",
     "output_type": "stream",
     "text": [
      "{'time': <class 'netCDF4._netCDF4.Variable'>\n",
      "int32 time(time)\n",
      "    units: minutes since 2018-08-24T00:00:01\n",
      "    calendar: proleptic_gregorian\n",
      "unlimited dimensions: \n",
      "current shape = (165499,)\n",
      "filling on, default _FillValue of -2147483647 used, 'conductivity': <class 'netCDF4._netCDF4.Variable'>\n",
      "float64 conductivity(time)\n",
      "    _FillValue: 9.969209968386869e+36\n",
      "    units: S/m\n",
      "    seabird_var_name: cond0S/m\n",
      "unlimited dimensions: \n",
      "current shape = (165499,)\n",
      "filling on, 'depth': <class 'netCDF4._netCDF4.Variable'>\n",
      "float64 depth(time)\n",
      "    _FillValue: 9.969209968386869e+36\n",
      "    units: m\n",
      "    seabird_var_name: depSM\n",
      "unlimited dimensions: \n",
      "current shape = (165499,)\n",
      "filling on, 'pressure': <class 'netCDF4._netCDF4.Variable'>\n",
      "float64 pressure(time)\n",
      "    _FillValue: 9.969209968386869e+36\n",
      "    units: db\n",
      "    seabird_var_name: prdM\n",
      "    comments: strain gauge\n",
      "unlimited dimensions: \n",
      "current shape = (165499,)\n",
      "filling on, 'temperature': <class 'netCDF4._netCDF4.Variable'>\n",
      "float64 temperature(time)\n",
      "    _FillValue: 9.969209968386869e+36\n",
      "    units: C\n",
      "    seabird_var_name: tv290C\n",
      "    comments: ITS-90\n",
      "unlimited dimensions: \n",
      "current shape = (165499,)\n",
      "filling on, 'flag': <class 'netCDF4._netCDF4.Variable'>\n",
      "float64 flag(time)\n",
      "    _FillValue: 9.969209968386869e+36\n",
      "    units: \n",
      "    seabird_var_name: flag\n",
      "unlimited dimensions: \n",
      "current shape = (165499,)\n",
      "filling on, 'flag_depth': <class 'netCDF4._netCDF4.Variable'>\n",
      "float64 flag_depth(time)\n",
      "    _FillValue: 9.969209968386869e+36\n",
      "    units: \n",
      "    comments: Index for outliers where 0 corresponds to reasonable observations and 1 indicates extreme values based on spikes in depth observations likely due to iceberg events pushing the mooring instruments downward. Variable measurements corresponding to a 1 in 'flag_depth' can be removed.\n",
      "unlimited dimensions: \n",
      "current shape = (165499,)\n",
      "filling on}\n"
     ]
    }
   ],
   "source": [
    "print(data.variables)"
   ]
  },
  {
   "cell_type": "code",
   "execution_count": 19,
   "id": "49f14e23-c3b7-4d16-92b6-cf89a1cfe2ff",
   "metadata": {},
   "outputs": [
    {
     "name": "stdout",
     "output_type": "stream",
     "text": [
      "<class 'netCDF4._netCDF4.Variable'>\n",
      "float64 flag_depth(time)\n",
      "    _FillValue: 9.969209968386869e+36\n",
      "    units: \n",
      "    comments: Index for outliers where 0 corresponds to reasonable observations and 1 indicates extreme values based on spikes in depth observations likely due to iceberg events pushing the mooring instruments downward. Variable measurements corresponding to a 1 in 'flag_depth' can be removed.\n",
      "unlimited dimensions: \n",
      "current shape = (165499,)\n",
      "filling on\n"
     ]
    }
   ],
   "source": [
    "# print(data['time'])\n",
    "# print(data['conductivity'])\n",
    "# print(data['density'])\n",
    "# print(data['depth'])\n",
    "# print(data['potential_temperature'])\n",
    "# print(data['pressure'])\n",
    "# print(data['temperature'])\n",
    "# print(data['flag'])\n",
    "print(data['flag_depth'])"
   ]
  },
  {
   "cell_type": "code",
   "execution_count": 20,
   "id": "ac938f5d-6e0d-41c2-b6b9-400180e01cae",
   "metadata": {},
   "outputs": [
    {
     "name": "stdout",
     "output_type": "stream",
     "text": [
      "<class 'netCDF4._netCDF4.Dataset'>\n",
      "root group (NETCDF4 data model, file format HDF5):\n",
      "    title: OMG Narwhals mooring CTD Level 1 Data\n",
      "    summary: This dataset contains conductivity, temperature, pressure, and depth measurements from a CTD instrument that was attached to an ocean mooring. This dataset was collected by the Oceans Melting Greenland (OMG) Narwhals program that will provide subannual hydrographic variability measurements in three northwest Greenland fjords. Between July 2018 to July 2020, three bottom-mounted moorings with a suite of instrumentation were deployed year-round in three glacial fjord sites in Melville Bay, West Greenland: Sverdrup Glacier, Kong Oscar Glacier, and Fisher Islands/Rink Glacier. Examination of water properties at these sites will demonstrate the presence and potential seasonality of warm, salty Atlantic Water intrusion into these marine-terminating glaciers. Additonally, during summer cruises where moorings were deployed and/or recovered, a CTD was lowered into the water to obtain full water column profiles at various locations near the glacier fronts and offshore.\n",
      "    keywords: Conductivity, Water Depth, Water Temperature\n",
      "    keywords_vocabulary: NASA Global Change Master Directory (GCMD) Science Keywords\n",
      "    id: OMG_Narwhals_Mooring_CTD_L1\n",
      "    uuid: 9069f512-14dd-11ec-82a8-0242ac130003\n",
      "    platform: R/V Sanna\n",
      "    mooring_deployment: 2018-2019\n",
      "    mooring_latitude: 75.5413\n",
      "    mooring_longitude: -58.410533\n",
      "    region: Melville Bay, West Greenland\n",
      "    start_date: Aug 24 2018\n",
      "    glacier_front: Sverdrup glacier\n",
      "    bottom_depth: 385 meters\n",
      "    filename: OMG_Narwhals_Mooring_CTD_L1_2019080303716787.nc\n",
      "    serial_number: 03716787\n",
      "    device_type: SBE37SM-RS232\n",
      "    target_sensor_depth: 100 meters\n",
      "    actual_sensor_depth: 118 meters\n",
      "    sample_interval: 180 seconds\n",
      "    source: Temperature and salinity data were collected using Conductivity Temperature Depth (CTD) instruments purchased from Sea-Bird Electronics, Inc. that were attached to moorings.\n",
      "    processing_level: L1\n",
      "    acknowledgements: This research was carried out by the Jet Propulsion Laboratory, managed by the California Institute of Technology under a contract with the National Aeronautics and Space Administration, the University of Washington's Applied Physics Laboratory and School of Aquatic and Fishery Sciences, and the Greenland Institute of Natural Resources.\n",
      "    license: Public Domain\n",
      "    product_version: 1.0\n",
      "    creator_name: Marie J. Zahn, Kristin L. Laidre, Malene J. Simon, and Ian Fenty\n",
      "    creator_email: mzahn@uw.edu; klaidre@uw.edu; masi@natur.gl; ian.fenty@jpl.nasa.gov\n",
      "    creator_url: https://podaac.jpl.nasa.gov/\n",
      "    creator_type: group\n",
      "    creator_institution: University of Washington; Greenland Institute of Natural Resources; NASA Jet Propulsion Laboratory\n",
      "    institution: University of Washington\n",
      "    naming_authority: gov.nasa.jpl\n",
      "    project: Oceans Melting Greenland (OMG) Narwhals project\n",
      "    program: NASA Physical Oceanography and Office of Naval Research (ONR) Marine Mammals and Biology Program\n",
      "    contributor_name: OMG Narwhals Science Team\n",
      "    contributor_role: OMG Narwhals Science Team performed mooring deployments and recoveries to collect data and performed initial processing.\n",
      "    publisher_name: Physical Oceanography Distributed Active Archive Center (PO.DAAC)\n",
      "    publisher_institution: PO.DAAC\n",
      "    publisher_email: podaac@podaac.jpl.nasa.gov\n",
      "    publisher_url: https://podaac.jpl.nasa.gov/\n",
      "    publisher_type: group\n",
      "    dimensions(sizes): time(165499)\n",
      "    variables(dimensions): int32 time(time), float64 conductivity(time), float64 depth(time), float64 pressure(time), float64 temperature(time), float64 flag(time), float64 flag_depth(time)\n",
      "    groups: \n"
     ]
    }
   ],
   "source": [
    "print(data)"
   ]
  },
  {
   "cell_type": "code",
   "execution_count": null,
   "id": "8d20d8d7-cf27-478e-b9b8-34be9569af12",
   "metadata": {},
   "outputs": [],
   "source": []
  }
 ],
 "metadata": {
  "kernelspec": {
   "display_name": "Python 3 (ipykernel)",
   "language": "python",
   "name": "python3"
  },
  "language_info": {
   "codemirror_mode": {
    "name": "ipython",
    "version": 3
   },
   "file_extension": ".py",
   "mimetype": "text/x-python",
   "name": "python",
   "nbconvert_exporter": "python",
   "pygments_lexer": "ipython3",
   "version": "3.9.13"
  }
 },
 "nbformat": 4,
 "nbformat_minor": 5
}
