{
 "cells": [
  {
   "cell_type": "markdown",
   "id": "a3135687-ec15-4ecb-b7c7-376c1a8cee54",
   "metadata": {},
   "source": [
    "#### Data cleaning for glacier velocity data"
   ]
  },
  {
   "cell_type": "code",
   "execution_count": null,
   "id": "713f4925-842f-40a3-af66-53ef6ba9a5c1",
   "metadata": {},
   "outputs": [],
   "source": []
  }
 ],
 "metadata": {
  "kernelspec": {
   "display_name": "Python 3 (ipykernel)",
   "language": "python",
   "name": "python3"
  },
  "language_info": {
   "codemirror_mode": {
    "name": "ipython",
    "version": 3
   },
   "file_extension": ".py",
   "mimetype": "text/x-python",
   "name": "python",
   "nbconvert_exporter": "python",
   "pygments_lexer": "ipython3",
   "version": "3.9.13"
  }
 },
 "nbformat": 4,
 "nbformat_minor": 5
}
